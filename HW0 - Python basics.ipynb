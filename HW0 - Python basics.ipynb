{
 "cells": [
  {
   "cell_type": "markdown",
   "metadata": {},
   "source": [
    "# HW 0 - Python basics [100 points]\n",
    "\n",
    "*Contact TA: Emaad Ahmed Manzoor (emaad@cmu.edu)*\n",
    "\n",
    "### Instructions\n",
    "2. Fill in the code/text blocks to answer each question.\n",
    "3. Do *not* change any of the existing code provided.\n",
    "4. Run the entire notebook *before* submitting it on Canvas to make sure that the code actually runs without errors.\n",
    "5. **Important**: Any question for which your code fails to run will receive 0 points.\n",
    "6. Be careful about where you save data for use with this Jupyter notebook (more details on this later).\n",
    "7. Have fun!"
   ]
  },
  {
   "cell_type": "markdown",
   "metadata": {},
   "source": [
    "## Problem 0: Setup the environment [0 points]\n",
    "\n",
    "Download and install [Anaconda](https://www.anaconda.com/download/), [spaCy](https://spacy.io/) and run a Jupyter notebook.\n",
    "   * The included [tutorial slides](95-865 Anaconda, Jupyter, and spaCy setup tutorial.pdf) guide you through this process (tested on Linux and Mac OSX).\n",
    "   * The following [video](https://www.youtube.com/watch?v=xKg2anRkg-M&index=1&list=PLcHK-U_3XaQvdjiU1d9r3dn_1xLyablE4) guides you through installing Anaconda and running Jupyer on Windows 10.\n",
    "      * Note: **DO** check the \"Add Anaconda to PATH\" option during the installation!\n",
    "      * Installation on Windows 10 requires Visual Studio 2017.\n",
    "   * The following [video](https://www.youtube.com/watch?v=hY_0YUKVNMU&index=3&list=PLcHK-U_3XaQvdjiU1d9r3dn_1xLyablE4) guides you through installing spaCy on Windows 10.\n",
    "      * Note: Run `conda config --add channels conda-forge` prior to installing the package.\n",
    "   \n",
    "If you already have a reliable way to install Python packages and run Jupyter notebooks, feel free to continue using that instead."
   ]
  },
  {
   "cell_type": "markdown",
   "metadata": {},
   "source": [
    "## Problem 1: Basic Python [30 points]\n",
    "\n",
    "The subproblems below use the following two lists:"
   ]
  },
  {
   "cell_type": "code",
   "execution_count": 78,
   "metadata": {
    "collapsed": true
   },
   "outputs": [],
   "source": [
    "a = [13, 1, 55, 34, 2, 3, 89, 5, 8, 21]\n",
    "b = [17,55, 34, 2, 3, 8, 9, 1, 4, 5, 6, 7, 20, 21, 36]"
   ]
  },
  {
   "cell_type": "markdown",
   "metadata": {},
   "source": [
    "### List intersection\n",
    "\n",
    "Find the elements that are common between the lists and store it in a new list `c`. Print list `c`."
   ]
  },
  {
   "cell_type": "code",
   "execution_count": 81,
   "metadata": {},
   "outputs": [
    {
     "name": "stdout",
     "output_type": "stream",
     "text": [
      "[1, 55, 34, 2, 3, 5, 8, 21]\n"
     ]
    }
   ],
   "source": [
    "c=[]\n",
    "for i in a:\n",
    "    for  j in b:\n",
    "        if(i==j):\n",
    "            c.append(i)\n",
    "print(c)"
   ]
  },
  {
   "cell_type": "markdown",
   "metadata": {},
   "source": [
    "### List filtering\n",
    "\n",
    "Using a [list comprehension](http://www.secnetix.de/olli/Python/list_comprehensions.hawk), construct a new list `d` containing only the **even** elements of `c`. Print list `d`."
   ]
  },
  {
   "cell_type": "code",
   "execution_count": 85,
   "metadata": {},
   "outputs": [
    {
     "name": "stdout",
     "output_type": "stream",
     "text": [
      "[34, 2, 8]\n"
     ]
    }
   ],
   "source": [
    "d =[i for i in c if i%2==0]\n",
    "print(d)"
   ]
  },
  {
   "cell_type": "markdown",
   "metadata": {},
   "source": [
    "### Fancy list operations"
   ]
  },
  {
   "cell_type": "markdown",
   "metadata": {},
   "source": [
    "Reverse the list `d` and print it."
   ]
  },
  {
   "cell_type": "code",
   "execution_count": 90,
   "metadata": {},
   "outputs": [
    {
     "data": {
      "text/plain": [
       "[8, 2, 34]"
      ]
     },
     "execution_count": 90,
     "metadata": {},
     "output_type": "execute_result"
    }
   ],
   "source": [
    "d.reverse()\n",
    "print(d)"
   ]
  },
  {
   "cell_type": "markdown",
   "metadata": {},
   "source": [
    "Sort the list `d` in increasing order and print it."
   ]
  },
  {
   "cell_type": "code",
   "execution_count": 91,
   "metadata": {},
   "outputs": [
    {
     "name": "stdout",
     "output_type": "stream",
     "text": [
      "[2, 8, 34]\n"
     ]
    }
   ],
   "source": [
    "d.sort()\n",
    "print(d)"
   ]
  },
  {
   "cell_type": "markdown",
   "metadata": {},
   "source": [
    "### User-defined Functions\n",
    "\n",
    "Write a function that takes as input a list and returns the maximum element of the list, **without** using a call to the `max()` function built into Python."
   ]
  },
  {
   "cell_type": "code",
   "execution_count": 92,
   "metadata": {},
   "outputs": [],
   "source": [
    "def my_max(lst):\n",
    "    maxi=lst[0]\n",
    "    for i in lst:\n",
    "        if maxi<i:\n",
    "            maxi=i\n",
    "    return maxi\n",
    "#my_max([1,2,3,4,5,6,7])"
   ]
  },
  {
   "cell_type": "markdown",
   "metadata": {},
   "source": [
    "## Problem 2: Basic Python Continued, Using Loops to Evaluate Expressions [5 points]"
   ]
  },
  {
   "cell_type": "markdown",
   "metadata": {},
   "source": [
    "Use a for loop to compute $\\sum_{n=1}^{100} 2^{-n}$.  Print your result."
   ]
  },
  {
   "cell_type": "code",
   "execution_count": 13,
   "metadata": {},
   "outputs": [
    {
     "data": {
      "text/plain": [
       "1.0"
      ]
     },
     "execution_count": 13,
     "metadata": {},
     "output_type": "execute_result"
    }
   ],
   "source": [
    "summ=0\n",
    "for i in range(100):\n",
    "    n=i+1\n",
    "    summ+=(2**(-n))\n",
    "print(summ)"
   ]
  },
  {
   "cell_type": "markdown",
   "metadata": {},
   "source": [
    "## Problem 3: Scientific computing with numpy [30 points]\n",
    "\n",
    "Install the `numpy` Python package before starting this section."
   ]
  },
  {
   "cell_type": "code",
   "execution_count": 14,
   "metadata": {
    "collapsed": true
   },
   "outputs": [],
   "source": [
    "import numpy as np"
   ]
  },
  {
   "cell_type": "markdown",
   "metadata": {
    "collapsed": true
   },
   "source": [
    "### Numpy arrays"
   ]
  },
  {
   "cell_type": "markdown",
   "metadata": {},
   "source": [
    "   * Construct an \"identity matrix\" `I`, a \"zero matrix\" `O` and an \"all-ones\" matrix `X` and an \"all-3s\" matrix `Y` in numpy, of size 10x10.\n",
    "   * The tedious approach would be to constuct each matrix explicitly. Instead, construct them via calls to numpy functions and matrix operations in 4 lines of code.\n",
    "   * Print all 4 matrices. (Note: can use extra lines of code to print the matrices)."
   ]
  },
  {
   "cell_type": "code",
   "execution_count": 63,
   "metadata": {},
   "outputs": [
    {
     "name": "stdout",
     "output_type": "stream",
     "text": [
      "I: [[ 1.  0.  0.  0.  0.  0.  0.  0.  0.  0.]\n",
      " [ 0.  1.  0.  0.  0.  0.  0.  0.  0.  0.]\n",
      " [ 0.  0.  1.  0.  0.  0.  0.  0.  0.  0.]\n",
      " [ 0.  0.  0.  1.  0.  0.  0.  0.  0.  0.]\n",
      " [ 0.  0.  0.  0.  1.  0.  0.  0.  0.  0.]\n",
      " [ 0.  0.  0.  0.  0.  1.  0.  0.  0.  0.]\n",
      " [ 0.  0.  0.  0.  0.  0.  1.  0.  0.  0.]\n",
      " [ 0.  0.  0.  0.  0.  0.  0.  1.  0.  0.]\n",
      " [ 0.  0.  0.  0.  0.  0.  0.  0.  1.  0.]\n",
      " [ 0.  0.  0.  0.  0.  0.  0.  0.  0.  1.]]\n",
      "O: [[ 0.  0.  0.  0.  0.  0.  0.  0.  0.  0.]\n",
      " [ 0.  0.  0.  0.  0.  0.  0.  0.  0.  0.]\n",
      " [ 0.  0.  0.  0.  0.  0.  0.  0.  0.  0.]\n",
      " [ 0.  0.  0.  0.  0.  0.  0.  0.  0.  0.]\n",
      " [ 0.  0.  0.  0.  0.  0.  0.  0.  0.  0.]\n",
      " [ 0.  0.  0.  0.  0.  0.  0.  0.  0.  0.]\n",
      " [ 0.  0.  0.  0.  0.  0.  0.  0.  0.  0.]\n",
      " [ 0.  0.  0.  0.  0.  0.  0.  0.  0.  0.]\n",
      " [ 0.  0.  0.  0.  0.  0.  0.  0.  0.  0.]\n",
      " [ 0.  0.  0.  0.  0.  0.  0.  0.  0.  0.]]\n",
      "X: [[ 1.  1.  1.  1.  1.  1.  1.  1.  1.  1.]\n",
      " [ 1.  1.  1.  1.  1.  1.  1.  1.  1.  1.]\n",
      " [ 1.  1.  1.  1.  1.  1.  1.  1.  1.  1.]\n",
      " [ 1.  1.  1.  1.  1.  1.  1.  1.  1.  1.]\n",
      " [ 1.  1.  1.  1.  1.  1.  1.  1.  1.  1.]\n",
      " [ 1.  1.  1.  1.  1.  1.  1.  1.  1.  1.]\n",
      " [ 1.  1.  1.  1.  1.  1.  1.  1.  1.  1.]\n",
      " [ 1.  1.  1.  1.  1.  1.  1.  1.  1.  1.]\n",
      " [ 1.  1.  1.  1.  1.  1.  1.  1.  1.  1.]\n",
      " [ 1.  1.  1.  1.  1.  1.  1.  1.  1.  1.]]\n",
      "Y: [[3 3 3 3 3 3 3 3 3 3]\n",
      " [3 3 3 3 3 3 3 3 3 3]\n",
      " [3 3 3 3 3 3 3 3 3 3]\n",
      " [3 3 3 3 3 3 3 3 3 3]\n",
      " [3 3 3 3 3 3 3 3 3 3]\n",
      " [3 3 3 3 3 3 3 3 3 3]\n",
      " [3 3 3 3 3 3 3 3 3 3]\n",
      " [3 3 3 3 3 3 3 3 3 3]\n",
      " [3 3 3 3 3 3 3 3 3 3]\n",
      " [3 3 3 3 3 3 3 3 3 3]]\n"
     ]
    }
   ],
   "source": [
    "I=np.identity(10)\n",
    "O=np.zeros(shape=(10,10))\n",
    "X=np.ones(shape=(10,10))\n",
    "Y=np.array([3]*100).reshape(10,10)\n",
    "print(\"I:\",I)\n",
    "print(\"O:\",O)\n",
    "print(\"X:\",X)\n",
    "print(\"Y:\",Y)\n"
   ]
  },
  {
   "cell_type": "markdown",
   "metadata": {},
   "source": [
    "### Numpy functions"
   ]
  },
  {
   "cell_type": "markdown",
   "metadata": {},
   "source": [
    "Consider the matrix `Z` defined below and use numpy functions to answer the following questions:"
   ]
  },
  {
   "cell_type": "code",
   "execution_count": 93,
   "metadata": {},
   "outputs": [
    {
     "name": "stdout",
     "output_type": "stream",
     "text": [
      "[[ 1  2  4]\n",
      " [ 2  3  5]\n",
      " [ 2  7 10]]\n"
     ]
    }
   ],
   "source": [
    "Z = np.array([[1,2,4],[2,3,5],[2,7,10]])\n",
    "print(Z)"
   ]
  },
  {
   "cell_type": "markdown",
   "metadata": {},
   "source": [
    "Print the maximum of each row of `Z`. Note that for this question and other questions below, your code should work even if Z is a different 2D array of numbers."
   ]
  },
  {
   "cell_type": "code",
   "execution_count": 94,
   "metadata": {},
   "outputs": [
    {
     "name": "stdout",
     "output_type": "stream",
     "text": [
      "Max in row 0 is 4\n",
      "Max in row 1 is 5\n",
      "Max in row 2 is 10\n"
     ]
    }
   ],
   "source": [
    "rows,cols = Z.shape\n",
    "for i in range(rows):\n",
    "    print(\"Max in row\",i,\"is\",np.amax(Z[i,:]))"
   ]
  },
  {
   "cell_type": "markdown",
   "metadata": {},
   "source": [
    "Print the maximum of each column of `Z`."
   ]
  },
  {
   "cell_type": "code",
   "execution_count": 95,
   "metadata": {},
   "outputs": [
    {
     "name": "stdout",
     "output_type": "stream",
     "text": [
      "Max in row 0 is 2\n",
      "Max in row 1 is 7\n",
      "Max in row 2 is 10\n"
     ]
    }
   ],
   "source": [
    "for i in range(cols):\n",
    "    print(\"Max in row\",i,\"is\",np.amax(Z[:,i]))"
   ]
  },
  {
   "cell_type": "markdown",
   "metadata": {},
   "source": [
    "Print the maximum element of `Z`."
   ]
  },
  {
   "cell_type": "code",
   "execution_count": 96,
   "metadata": {},
   "outputs": [
    {
     "name": "stdout",
     "output_type": "stream",
     "text": [
      "Max element is 10\n"
     ]
    }
   ],
   "source": [
    "print(\"Max element is\",np.amax(Z))"
   ]
  },
  {
   "cell_type": "markdown",
   "metadata": {},
   "source": [
    "Print a \"row-normalized\" version of `Z` so that each row sums to 1 (the row-normalized version of `Z` has the same number of rows and columns as `Z`). For example, if a row is `[1,2,4]`, then the version of this row that sums to 1 is `[1/7,2/7,4/7]` (although when printing this out, you would get a decimal representation like `[0.14285714285714285, 0.2857142857142857, 0.5714285714285714]`)."
   ]
  },
  {
   "cell_type": "code",
   "execution_count": 97,
   "metadata": {},
   "outputs": [
    {
     "name": "stdout",
     "output_type": "stream",
     "text": [
      "row-normalized Z: [[ 0.14285714  0.28571429  0.57142857]\n",
      " [ 0.2         0.3         0.5       ]\n",
      " [ 0.10526316  0.36842105  0.52631579]]\n"
     ]
    }
   ],
   "source": [
    "Z_rn=np.zeros(shape=(rows,cols))\n",
    "for i in range(rows):\n",
    "    Z_rn[i:,] = Z[i:,]/np.sum(Z[i,:])\n",
    "print(\"row-normalized Z:\",Z_rn)"
   ]
  },
  {
   "cell_type": "markdown",
   "metadata": {},
   "source": [
    "Convert `Z` into a matrix with a single row (a row vector) and print it. There are multiple two ways to do this, any of them are fine."
   ]
  },
  {
   "cell_type": "code",
   "execution_count": 98,
   "metadata": {},
   "outputs": [
    {
     "name": "stdout",
     "output_type": "stream",
     "text": [
      "[ 1  2  4  2  3  5  2  7 10]\n"
     ]
    }
   ],
   "source": [
    "print(Z.ravel())\n",
    "#or Z.flatten()"
   ]
  },
  {
   "cell_type": "markdown",
   "metadata": {},
   "source": [
    "## Problem 3: Plotting with matplotlib [35 points]\n",
    "\n",
    "Install the `matplotlib` Python package before starting this section."
   ]
  },
  {
   "cell_type": "code",
   "execution_count": 99,
   "metadata": {
    "collapsed": true
   },
   "outputs": [],
   "source": [
    "%matplotlib inline\n",
    "import matplotlib.pyplot as plt\n",
    "import numpy as np"
   ]
  },
  {
   "cell_type": "code",
   "execution_count": 100,
   "metadata": {},
   "outputs": [],
   "source": [
    "x = np.random.normal(size=1000)\n",
    "y = np.random.normal(size=1000)"
   ]
  },
  {
   "cell_type": "markdown",
   "metadata": {},
   "source": [
    "Construct a scatter plot of the (x,y) coordinations defined above as follows:\n",
    "   * Label the axes as \"x-axis\" and \"y-axis\"\n",
    "   * Title the plot as \"My plot\".\n",
    "   * Color the points cyan (color code `c` in matplotlib).\n",
    "   * Display a grid.\n",
    "   * Display a legend with the label \"Data\" on the top-right."
   ]
  },
  {
   "cell_type": "code",
   "execution_count": 101,
   "metadata": {},
   "outputs": [
    {
     "data": {
      "image/png": "[encoded data removed]",
      "text/plain": [
       "<matplotlib.figure.Figure at 0x1f577ffcbe0>"
      ]
     },
     "metadata": {},
     "output_type": "display_data"
    }
   ],
   "source": [
    "plt.scatter(x,y,color=\"c\")\n",
    "plt.xlabel(\"x-axis\")\n",
    "plt.ylabel(\"y-axis\")\n",
    "plt.title(\"My plot\")\n",
    "plt.grid()\n",
    "plt.legend((\"Data\",),loc='upper right')\n",
    "plt.show()"
   ]
  },
  {
   "cell_type": "markdown",
   "metadata": {},
   "source": [
    "Construct a histogram of the points in `x` as follows:\n",
    "   * Set the histogram edges to be colored black (color code `k` in matplotlib).\n",
    "   * Use 50 bins.\n",
    "   * Display a grid."
   ]
  },
  {
   "cell_type": "code",
   "execution_count": 102,
   "metadata": {},
   "outputs": [
    {
     "data": {
      "image/png": "[encoded data removed]",
      "text/plain": [
       "<matplotlib.figure.Figure at 0x1f5783f0400>"
      ]
     },
     "metadata": {},
     "output_type": "display_data"
    }
   ],
   "source": [
    "plt.hist(x,bins=50,ec=\"k\")\n",
    "plt.grid()\n",
    "plt.show()"
   ]
  },
  {
   "cell_type": "markdown",
   "metadata": {},
   "source": [
    "Construct the following plot (a \"cumulative density function\"):\n",
    "\n",
    "   * The x-axis in has values $x$ ranging from from min(`x`) to max(`x`).\n",
    "   * The y-axis is the fraction of points $p$ in `x` that are less than or equal to $x$.\n",
    "   * Display a grid."
   ]
  },
  {
   "cell_type": "code",
   "execution_count": 112,
   "metadata": {},
   "outputs": [
    {
     "data": {
      "image/png": "[encoded data removed]",
      "text/plain": [
       "<matplotlib.figure.Figure at 0x1f577eec358>"
      ]
     },
     "metadata": {},
     "output_type": "display_data"
    }
   ],
   "source": [
    "v,b = np.histogram(x)\n",
    "l=len(x)\n",
    "c =np.cumsum(v)/l\n",
    "plt.plot(b[:-1],c)\n",
    "plt.grid()\n",
    "plt.show()"
   ]
  },
  {
   "cell_type": "code",
   "execution_count": null,
   "metadata": {},
   "outputs": [],
   "source": []
  },
  {
   "cell_type": "code",
   "execution_count": null,
   "metadata": {
    "collapsed": true
   },
   "outputs": [],
   "source": []
  }
 ],
 "metadata": {
  "kernelspec": {
   "display_name": "Python 3",
   "language": "python",
   "name": "python3"
  },
  "language_info": {
   "codemirror_mode": {
    "name": "ipython",
    "version": 3
   },
   "file_extension": ".py",
   "mimetype": "text/x-python",
   "name": "python",
   "nbconvert_exporter": "python",
   "pygments_lexer": "ipython3",
   "version": "3.6.3"
  }
 },
 "nbformat": 4,
 "nbformat_minor": 2
}
