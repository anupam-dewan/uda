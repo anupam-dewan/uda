{
 "cells": [
  {
   "cell_type": "markdown",
   "metadata": {},
   "source": [
    "# Recurrent Neural Networks Demo\n",
    "This is a truncated and slightly modified version of an RNN demo by 95-865 Fall 2017 TA Runshan Fu"
   ]
  },
  {
   "cell_type": "markdown",
   "metadata": {},
   "source": [
    "### Sentiment Analysis with the IMDb Dataset\n",
    "In this demo, we will implement RNN models for sentiment analysis on IMDB reviews. We will start from the original review texts and predict sentiments (positive or negative) for each review. The example is borrowed from the book *Deep Learning with Python* by Francois Chollet.\n",
    "\n",
    "#### Load the dataset\n",
    "We directly load the data as lists of intergers from keras. We restrict the movie reviews to the top 10,000 most common words, and cut the reviews after 100 words."
   ]
  },
  {
   "cell_type": "code",
   "execution_count": 1,
   "metadata": {
    "collapsed": false
   },
   "outputs": [
    {
     "name": "stderr",
     "output_type": "stream",
     "text": [
      "Using TensorFlow backend.\n"
     ]
    }
   ],
   "source": [
    "from keras.datasets import imdb\n",
    "from keras.preprocessing import sequence\n",
    "\n",
    "# load the dataset and only keep the top words (most frequently occurring)\n",
    "max_words = 10000\n",
    "(x_train, y_train), (x_test, y_test) = imdb.load_data(num_words=max_words)\n",
    "\n",
    "# turn the lists of integers into a 2D integer tensor of shape `(samples, maxlen)`\n",
    "x_train = sequence.pad_sequences(x_train, maxlen=100)\n",
    "x_test = sequence.pad_sequences(x_test, maxlen=100)"
   ]
  },
  {
   "cell_type": "markdown",
   "metadata": {},
   "source": [
    "#### Use pre-trained word embeddings\n",
    "We use GloVe embeddings instead of learning our own task-specific word embedding. First download the pre-computed embeddings from 2014 English Wikipedia on https://nlp.stanford.edu/projects/glove/ (specifically the one with 6 billion tokens, `globe.6B.zip`). Unzip it (so that `glove.6B.100d.txt` is located in the directory `./glove/`)."
   ]
  },
  {
   "cell_type": "code",
   "execution_count": 2,
   "metadata": {
    "collapsed": false
   },
   "outputs": [
    {
     "name": "stdout",
     "output_type": "stream",
     "text": [
      "Found 400000 word vectors.\n"
     ]
    }
   ],
   "source": [
    "import numpy as np\n",
    "# pre-process the embeddings\n",
    "embeddings_index = {}\n",
    "\n",
    "# we will use the 100-dimensional embedding vectors\n",
    "with open(\"./glove/glove.6B.100d.txt\") as f:\n",
    "    # each row represents a word vector\n",
    "    for line in f:\n",
    "        values = line.split()\n",
    "        # the first part is word\n",
    "        word = values[0]\n",
    "        # the rest of the values form the embedding vector\n",
    "        coefs = np.asarray(values[1:], dtype='float32')\n",
    "        embeddings_index[word] = coefs\n",
    "\n",
    "print('Found %s word vectors.' % len(embeddings_index))"
   ]
  },
  {
   "cell_type": "code",
   "execution_count": 3,
   "metadata": {
    "collapsed": false
   },
   "outputs": [],
   "source": [
    "# prepare the GloVe word embeddings matrix\n",
    "embedding_dim = 100\n",
    "\n",
    "# word index is a dictinary that maps each word to its index\n",
    "word_index = imdb.get_word_index()\n",
    "# we first initialize the embedding matrix with zeros\n",
    "embedding_matrix = np.zeros((max_words, embedding_dim))\n",
    "for word, i in word_index.items():\n",
    "    # we get the word embeddings for each word from GloVe\n",
    "    embedding_vector = embeddings_index.get(word)\n",
    "    # we only look at top 10000 words\n",
    "    if i < max_words:\n",
    "        # if the embedding vector for the word exists in GloVe, we use it as the corresponding row in the \n",
    "        # embedding matrix; otherwise we leave the row as all zeros\n",
    "        if embedding_vector is not None:\n",
    "            embedding_matrix[i] = embedding_vector"
   ]
  },
  {
   "cell_type": "markdown",
   "metadata": {},
   "source": [
    "#### Forward Network with Embeddings"
   ]
  },
  {
   "cell_type": "code",
   "execution_count": 4,
   "metadata": {
    "collapsed": false
   },
   "outputs": [
    {
     "name": "stdout",
     "output_type": "stream",
     "text": [
      "_________________________________________________________________\n",
      "Layer (type)                 Output Shape              Param #   \n",
      "=================================================================\n",
      "embedding_1 (Embedding)      (None, 100, 100)          1000000   \n",
      "_________________________________________________________________\n",
      "flatten_1 (Flatten)          (None, 10000)             0         \n",
      "_________________________________________________________________\n",
      "dense_1 (Dense)              (None, 32)                320032    \n",
      "_________________________________________________________________\n",
      "dense_2 (Dense)              (None, 1)                 33        \n",
      "=================================================================\n",
      "Total params: 1,320,065\n",
      "Trainable params: 1,320,065\n",
      "Non-trainable params: 0\n",
      "_________________________________________________________________\n"
     ]
    }
   ],
   "source": [
    "from keras.models import Sequential\n",
    "from keras.layers import Embedding, Flatten, Dense\n",
    "# initialize the model\n",
    "model = Sequential()\n",
    "# add the embedding layer; it takes 3 arguments: the total number of words (10000), \n",
    "# embedding dimension(100), and the input length (100)--the last argument is required \n",
    "# as we are going to connect Flatten then Dense layers (without it, the shape of\n",
    "# the dense outputs cannot be computed).\n",
    "model.add(Embedding(max_words, embedding_dim, input_length=100))\n",
    "# then flatten the 3D tensor into a 2D matrix as the input for the subsequent layer\n",
    "model.add(Flatten())\n",
    "# add a dense layer with 32 nodes\n",
    "model.add(Dense(32, activation='relu'))\n",
    "# add a logistic regression binary classifier\n",
    "model.add(Dense(1, activation='sigmoid'))\n",
    "model.summary()"
   ]
  },
  {
   "cell_type": "code",
   "execution_count": 5,
   "metadata": {
    "collapsed": true
   },
   "outputs": [],
   "source": [
    "# load the GloVe embeddings in the model\n",
    "model.layers[0].set_weights([embedding_matrix])\n",
    "# set the embedding layer to be not trainable, so the weights do not change during the training\n",
    "model.layers[0].trainable = False"
   ]
  },
  {
   "cell_type": "code",
   "execution_count": 6,
   "metadata": {
    "collapsed": false
   },
   "outputs": [
    {
     "name": "stdout",
     "output_type": "stream",
     "text": [
      "Train on 20000 samples, validate on 5000 samples\n",
      "Epoch 1/10\n",
      "20000/20000 [==============================] - 3s - loss: 0.7031 - acc: 0.4993 - val_loss: 0.6928 - val_acc: 0.5108\n",
      "Epoch 2/10\n",
      "20000/20000 [==============================] - 3s - loss: 0.6945 - acc: 0.5138 - val_loss: 0.6888 - val_acc: 0.5228\n",
      "Epoch 3/10\n",
      "20000/20000 [==============================] - 3s - loss: 0.6714 - acc: 0.5866 - val_loss: 0.7208 - val_acc: 0.5206\n",
      "Epoch 4/10\n",
      "20000/20000 [==============================] - 3s - loss: 0.6227 - acc: 0.6548 - val_loss: 0.7755 - val_acc: 0.5178\n",
      "Epoch 5/10\n",
      "20000/20000 [==============================] - 3s - loss: 0.5819 - acc: 0.6938 - val_loss: 0.7421 - val_acc: 0.5612\n",
      "Epoch 6/10\n",
      "20000/20000 [==============================] - 3s - loss: 0.5413 - acc: 0.7247 - val_loss: 0.7770 - val_acc: 0.5810\n",
      "Epoch 7/10\n",
      "20000/20000 [==============================] - 3s - loss: 0.5034 - acc: 0.7519 - val_loss: 0.8109 - val_acc: 0.5684\n",
      "Epoch 8/10\n",
      "20000/20000 [==============================] - 3s - loss: 0.4656 - acc: 0.7737 - val_loss: 0.9122 - val_acc: 0.5700\n",
      "Epoch 9/10\n",
      "20000/20000 [==============================] - 3s - loss: 0.4259 - acc: 0.7995 - val_loss: 0.9842 - val_acc: 0.5456\n",
      "Epoch 10/10\n",
      "20000/20000 [==============================] - 3s - loss: 0.3851 - acc: 0.8244 - val_loss: 0.9475 - val_acc: 0.5652\n"
     ]
    }
   ],
   "source": [
    "# compile and train the model\n",
    "model.compile(optimizer='rmsprop',\n",
    "              loss='binary_crossentropy',\n",
    "              metrics=['acc'])\n",
    "\n",
    "history = model.fit(x_train, y_train,\n",
    "                    epochs=10,\n",
    "                    batch_size=32,\n",
    "                    validation_split=0.2)"
   ]
  },
  {
   "cell_type": "code",
   "execution_count": 7,
   "metadata": {
    "collapsed": false
   },
   "outputs": [
    {
     "data": {
      "image/png": "[encoded data removed]",
      "text/plain": [
       "<matplotlib.figure.Figure at 0x138c7f8d0>"
      ]
     },
     "metadata": {},
     "output_type": "display_data"
    }
   ],
   "source": [
    "# plot the accuracy rates for each epoch on training and validation data\n",
    "import matplotlib.pyplot as plt\n",
    "acc = history.history['acc']\n",
    "val_acc = history.history['val_acc']\n",
    "epochs = range(1, len(acc) + 1)\n",
    "plt.plot(epochs, acc, 'bo', label='Training acc')\n",
    "plt.plot(epochs, val_acc, 'b', label='Validation acc')\n",
    "plt.title('Training and validation accuracy')\n",
    "plt.legend()\n",
    "plt.show()"
   ]
  },
  {
   "cell_type": "code",
   "execution_count": 8,
   "metadata": {
    "collapsed": false
   },
   "outputs": [
    {
     "name": "stdout",
     "output_type": "stream",
     "text": [
      "24768/25000 [============================>.] - ETA: 0sTest accuracy: 0.56192\n"
     ]
    }
   ],
   "source": [
    "test_loss, test_acc = model.evaluate(x_test, y_test)\n",
    "print('Test accuracy:', test_acc)"
   ]
  },
  {
   "cell_type": "markdown",
   "metadata": {},
   "source": [
    "#### LSTM"
   ]
  },
  {
   "cell_type": "code",
   "execution_count": 9,
   "metadata": {
    "collapsed": false
   },
   "outputs": [
    {
     "name": "stdout",
     "output_type": "stream",
     "text": [
      "_________________________________________________________________\n",
      "Layer (type)                 Output Shape              Param #   \n",
      "=================================================================\n",
      "embedding_2 (Embedding)      (None, None, 100)         1000000   \n",
      "_________________________________________________________________\n",
      "lstm_1 (LSTM)                (None, 100)               80400     \n",
      "_________________________________________________________________\n",
      "dense_3 (Dense)              (None, 1)                 101       \n",
      "=================================================================\n",
      "Total params: 1,080,501\n",
      "Trainable params: 80,501\n",
      "Non-trainable params: 1,000,000\n",
      "_________________________________________________________________\n"
     ]
    }
   ],
   "source": [
    "from keras.models import Sequential\n",
    "from keras.layers import Embedding, LSTM, Dense\n",
    "model = Sequential()\n",
    "model.add(Embedding(max_words, embedding_dim))\n",
    "model.add(LSTM(embedding_dim))\n",
    "model.add(Dense(1, activation='sigmoid'))\n",
    "# load the GloVe embeddings in the model\n",
    "model.layers[0].set_weights([embedding_matrix])\n",
    "model.layers[0].trainable = False\n",
    "\n",
    "model.summary()"
   ]
  },
  {
   "cell_type": "code",
   "execution_count": 10,
   "metadata": {
    "collapsed": false
   },
   "outputs": [
    {
     "name": "stdout",
     "output_type": "stream",
     "text": [
      "Train on 20000 samples, validate on 5000 samples\n",
      "Epoch 1/10\n",
      "20000/20000 [==============================] - 176s - loss: 0.6752 - acc: 0.5682 - val_loss: 0.6499 - val_acc: 0.6164\n",
      "Epoch 2/10\n",
      "20000/20000 [==============================] - 167s - loss: 0.6224 - acc: 0.6482 - val_loss: 0.6048 - val_acc: 0.6596\n",
      "Epoch 3/10\n",
      "20000/20000 [==============================] - 182s - loss: 0.5719 - acc: 0.6973 - val_loss: 0.5846 - val_acc: 0.6704\n",
      "Epoch 4/10\n",
      "20000/20000 [==============================] - 164s - loss: 0.5231 - acc: 0.7352 - val_loss: 0.5310 - val_acc: 0.7198\n",
      "Epoch 5/10\n",
      "20000/20000 [==============================] - 165s - loss: 0.4767 - acc: 0.7683 - val_loss: 0.5048 - val_acc: 0.7428\n",
      "Epoch 6/10\n",
      "20000/20000 [==============================] - 167s - loss: 0.4325 - acc: 0.7942 - val_loss: 0.4917 - val_acc: 0.7540\n",
      "Epoch 7/10\n",
      "20000/20000 [==============================] - 166s - loss: 0.3900 - acc: 0.8219 - val_loss: 0.5307 - val_acc: 0.7516\n",
      "Epoch 8/10\n",
      "20000/20000 [==============================] - 165s - loss: 0.3478 - acc: 0.8457 - val_loss: 0.5111 - val_acc: 0.7586\n",
      "Epoch 9/10\n",
      "20000/20000 [==============================] - 173s - loss: 0.3076 - acc: 0.8681 - val_loss: 0.5265 - val_acc: 0.7632\n",
      "Epoch 10/10\n",
      "20000/20000 [==============================] - 170s - loss: 0.2669 - acc: 0.8868 - val_loss: 0.5632 - val_acc: 0.7574\n"
     ]
    }
   ],
   "source": [
    "# compile and train the model\n",
    "model.compile(optimizer='rmsprop',\n",
    "              loss='binary_crossentropy',\n",
    "              metrics=['acc'])\n",
    "history = model.fit(x_train, y_train,\n",
    "                    epochs=10,\n",
    "                    batch_size=32,\n",
    "                    validation_split=0.2)"
   ]
  },
  {
   "cell_type": "code",
   "execution_count": 11,
   "metadata": {
    "collapsed": false
   },
   "outputs": [
    {
     "data": {
      "image/png": "[encoded data removed]",
      "text/plain": [
       "<matplotlib.figure.Figure at 0x13dc938d0>"
      ]
     },
     "metadata": {},
     "output_type": "display_data"
    }
   ],
   "source": [
    "# plot the accuracy rates for each epoch on training and validation data\n",
    "acc = history.history['acc']\n",
    "val_acc = history.history['val_acc']\n",
    "epochs = range(1, len(acc) + 1)\n",
    "plt.plot(epochs, acc, 'bo', label='Training acc')\n",
    "plt.plot(epochs, val_acc, 'b', label='Validation acc')\n",
    "plt.title('Training and validation accuracy')\n",
    "plt.legend()\n",
    "plt.show()"
   ]
  },
  {
   "cell_type": "code",
   "execution_count": 12,
   "metadata": {
    "collapsed": false
   },
   "outputs": [
    {
     "name": "stdout",
     "output_type": "stream",
     "text": [
      "25000/25000 [==============================] - 34s    \n",
      "Test accuracy: 0.76516\n"
     ]
    }
   ],
   "source": [
    "test_loss, test_acc = model.evaluate(x_test, y_test)\n",
    "print('Test accuracy:', test_acc)"
   ]
  }
 ],
 "metadata": {
  "anaconda-cloud": {},
  "kernelspec": {
   "display_name": "Python [default]",
   "language": "python",
   "name": "python3"
  },
  "language_info": {
   "codemirror_mode": {
    "name": "ipython",
    "version": 3
   },
   "file_extension": ".py",
   "mimetype": "text/x-python",
   "name": "python",
   "nbconvert_exporter": "python",
   "pygments_lexer": "ipython3",
   "version": "3.5.2"
  }
 },
 "nbformat": 4,
 "nbformat_minor": 1
}