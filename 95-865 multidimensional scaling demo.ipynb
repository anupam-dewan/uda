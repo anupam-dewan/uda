{
 "cells": [
  {
   "cell_type": "code",
   "execution_count": 21,
   "metadata": {},
   "outputs": [
    {
     "name": "stdout",
     "output_type": "stream",
     "text": [
      "[[ -6.40000000e+00]\n",
      " [ -6.60000000e+00]\n",
      " [ -1.77635684e-16]\n",
      " [  4.60000000e+00]\n",
      " [  8.40000000e+00]]\n"
     ]
    },
    {
     "data": {
      "image/png": "[encoded data removed]",
      "text/plain": [
       "<matplotlib.figure.Figure at 0x249c22a3ba8>"
      ]
     },
     "metadata": {},
     "output_type": "display_data"
    }
   ],
   "source": [
    "# multidimensional scaling demo\n",
    "\n",
    "import numpy as np\n",
    "\n",
    "point_names = ['A', 'B', 'C', 'D', 'E']\n",
    "distances = np.array([[0, 5, 8, 13, 16],\n",
    "                      [5, 0, 5, 10, 13],\n",
    "                      [8, 5, 0, 5, 8],\n",
    "                      [13, 10, 5, 0, 5],\n",
    "                      [16, 13, 8, 5, 0]])\n",
    "\n",
    "from sklearn import manifold\n",
    "# remove random_state=0 and re-running gives you different 1D representations of A, B, C, D, E\n",
    "mds = manifold.MDS(n_components=1, dissimilarity='precomputed', random_state=0)\n",
    "low_dimensional_points = mds.fit_transform(distances)\n",
    "print(low_dimensional_points)\n",
    "\n",
    "%matplotlib inline\n",
    "import matplotlib.pyplot as plt\n",
    "plt.scatter(low_dimensional_points, np.zeros(len(low_dimensional_points)))\n",
    "for idx in range(len(point_names)):\n",
    "    plt.annotate(point_names[idx], (low_dimensional_points[idx], 0))"
   ]
  },
  {
   "cell_type": "code",
   "execution_count": 28,
   "metadata": {},
   "outputs": [
    {
     "name": "stdout",
     "output_type": "stream",
     "text": [
      "[[-6.85806331 -4.39883607]\n",
      " [-5.04722795 -0.04593807]\n",
      " [ 0.1034608  -0.21441719]\n",
      " [ 3.76043988  3.49541499]\n",
      " [ 8.04139057  1.16377634]]\n"
     ]
    },
    {
     "data": {
      "image/png": "[encoded data removed]",
      "text/plain": [
       "<matplotlib.figure.Figure at 0x249c1a5be48>"
      ]
     },
     "metadata": {},
     "output_type": "display_data"
    }
   ],
   "source": [
    "# multidimensional scaling demo\n",
    "#from 5x5(2D) to 5*2(1D)\n",
    "import numpy as np\n",
    "\n",
    "point_names = ['A', 'B', 'C', 'D', 'E']\n",
    "distances = np.array([[0, 5, 8, 13, 16],\n",
    "                      [5, 0, 5, 10, 13],\n",
    "                      [8, 5, 0, 5, 8],\n",
    "                      [13, 10, 5, 0, 5],\n",
    "                      [16, 13, 8, 5, 0]])\n",
    "\n",
    "from sklearn import manifold\n",
    "# remove random_state=0 and re-running gives you different 1D representations of A, B, C, D, E\n",
    "mds = manifold.MDS(n_components=2, dissimilarity='precomputed')\n",
    "low_dimensional_points = mds.fit_transform(distances)\n",
    "print(low_dimensional_points)\n",
    "\n",
    "%matplotlib inline\n",
    "import matplotlib.pyplot as plt\n",
    "plt.plot(low_dimensional_points[:,0],low_dimensional_points[:,1])\n",
    "# plt.scatter(low_dimensional_points, np.zeros(len(low_dimensional_points)))\n",
    "for idx in range(len(point_names)):\n",
    "    plt.annotate(point_names[idx], (low_dimensional_points[idx,0],low_dimensional_points[idx,1]))"
   ]
  },
  {
   "cell_type": "code",
   "execution_count": null,
   "metadata": {
    "collapsed": true
   },
   "outputs": [],
   "source": []
  },
  {
   "cell_type": "code",
   "execution_count": null,
   "metadata": {
    "collapsed": true
   },
   "outputs": [],
   "source": []
  },
  {
   "cell_type": "code",
   "execution_count": null,
   "metadata": {
    "collapsed": true
   },
   "outputs": [],
   "source": []
  },
  {
   "cell_type": "code",
   "execution_count": null,
   "metadata": {
    "collapsed": true
   },
   "outputs": [],
   "source": []
  }
 ],
 "metadata": {
  "kernelspec": {
   "display_name": "Python 3",
   "language": "python",
   "name": "python3"
  },
  "language_info": {
   "codemirror_mode": {
    "name": "ipython",
    "version": 3
   },
   "file_extension": ".py",
   "mimetype": "text/x-python",
   "name": "python",
   "nbconvert_exporter": "python",
   "pygments_lexer": "ipython3",
   "version": "3.6.3"
  }
 },
 "nbformat": 4,
 "nbformat_minor": 2
}
