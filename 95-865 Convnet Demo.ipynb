{
 "cells": [
  {
   "cell_type": "code",
   "execution_count": 1,
   "metadata": {},
   "outputs": [
    {
     "name": "stderr",
     "output_type": "stream",
     "text": [
      "Using TensorFlow backend.\n"
     ]
    }
   ],
   "source": [
    "# This demo draws heavily from the handwritten digit example in\n",
    "# Chapter 2 of Francois Chollet's \"Deep Learning with Python\" book.\n",
    "# I've added a simpler single-layer example first before moving to\n",
    "# the 2-layer example. -George Chen (CMU Fall 2017)\n",
    "\n",
    "%matplotlib inline\n",
    "import matplotlib.pyplot as plt\n",
    "import numpy as np\n",
    "\n",
    "from keras.datasets import mnist\n",
    "from keras import models\n",
    "from keras import layers\n",
    "\n",
    "(train_images, train_labels), (test_images, test_labels) = mnist.load_data()"
   ]
  },
  {
   "cell_type": "code",
   "execution_count": 2,
   "metadata": {},
   "outputs": [
    {
     "name": "stdout",
     "output_type": "stream",
     "text": [
      "(60000, 28, 28)\n"
     ]
    }
   ],
   "source": [
    "print(train_images.shape)"
   ]
  },
  {
   "cell_type": "code",
   "execution_count": 3,
   "metadata": {},
   "outputs": [
    {
     "name": "stdout",
     "output_type": "stream",
     "text": [
      "(10000, 28, 28)\n"
     ]
    }
   ],
   "source": [
    "print(test_images.shape)"
   ]
  },
  {
   "cell_type": "code",
   "execution_count": 4,
   "metadata": {
    "collapsed": true
   },
   "outputs": [],
   "source": [
    "flattened_train_images = train_images.reshape(len(train_images), -1)  # flattens out each training image\n",
    "flattened_test_images = test_images.reshape(len(test_images), -1)  # flattens out each test image\n",
    "flattened_train_images = flattened_train_images.astype(np.float32) / 255  # rescale to be between 0 and 1\n",
    "flattened_test_images = flattened_test_images.astype(np.float32) / 255  # rescale to be between 0 and 1\n",
    "\n",
    "from keras.utils import to_categorical\n",
    "train_labels_categorical = to_categorical(train_labels)\n",
    "test_labels_categorical = to_categorical(test_labels)"
   ]
  },
  {
   "cell_type": "code",
   "execution_count": 5,
   "metadata": {},
   "outputs": [
    {
     "data": {
      "text/plain": [
       "5"
      ]
     },
     "execution_count": 5,
     "metadata": {},
     "output_type": "execute_result"
    }
   ],
   "source": [
    "train_labels[0]"
   ]
  },
  {
   "cell_type": "code",
   "execution_count": 6,
   "metadata": {},
   "outputs": [
    {
     "data": {
      "text/plain": [
       "array([ 0.,  0.,  0.,  0.,  0.,  1.,  0.,  0.,  0.,  0.])"
      ]
     },
     "execution_count": 6,
     "metadata": {},
     "output_type": "execute_result"
    }
   ],
   "source": [
    "train_labels_categorical[0]"
   ]
  },
  {
   "cell_type": "code",
   "execution_count": 7,
   "metadata": {},
   "outputs": [
    {
     "name": "stdout",
     "output_type": "stream",
     "text": [
      "(60000, 784)\n"
     ]
    }
   ],
   "source": [
    "print(flattened_train_images.shape)"
   ]
  },
  {
   "cell_type": "code",
   "execution_count": 8,
   "metadata": {},
   "outputs": [
    {
     "data": {
      "text/plain": [
       "(-0.5, 27.5, 27.5, -0.5)"
      ]
     },
     "execution_count": 8,
     "metadata": {},
     "output_type": "execute_result"
    },
    {
     "data": {
      "image/png": "[encoded data removed]",
      "text/plain": [
       "<matplotlib.figure.Figure at 0x2ddc86be780>"
      ]
     },
     "metadata": {},
     "output_type": "display_data"
    }
   ],
   "source": [
    "# this plots out one of the training images\n",
    "idx = np.random.randint(len(train_images))  # random training image index\n",
    "plt.imshow(train_images[idx], cmap='gray')\n",
    "plt.axis('off')"
   ]
  },
  {
   "cell_type": "code",
   "execution_count": 9,
   "metadata": {},
   "outputs": [
    {
     "data": {
      "text/plain": [
       "(-0.5, 9.5, 783.5, -0.5)"
      ]
     },
     "execution_count": 9,
     "metadata": {},
     "output_type": "execute_result"
    },
    {
     "data": {
      "image/png": "[encoded data removed]",
      "text/plain": [
       "<matplotlib.figure.Figure at 0x2ddcc2fb7f0>"
      ]
     },
     "metadata": {},
     "output_type": "display_data"
    }
   ],
   "source": [
    "# this is just to visualize what the flattened version of the image above looks like;\n",
    "# after flattening the image I replicate it horizontally (by 10 pixels) just for\n",
    "# visualization purposes since otherwise the image is so thin (horizontally) that\n",
    "# it's not easy to see anything\n",
    "plt.imshow(np.hstack([train_images[idx].flatten().reshape((784,1))]*10), cmap='gray')\n",
    "plt.axis('off')"
   ]
  },
  {
   "cell_type": "code",
   "execution_count": 10,
   "metadata": {},
   "outputs": [
    {
     "name": "stdout",
     "output_type": "stream",
     "text": [
      "_________________________________________________________________\n",
      "Layer (type)                 Output Shape              Param #   \n",
      "=================================================================\n",
      "dense_1 (Dense)              (None, 10)                7850      \n",
      "=================================================================\n",
      "Total params: 7,850\n",
      "Trainable params: 7,850\n",
      "Non-trainable params: 0\n",
      "_________________________________________________________________\n"
     ]
    }
   ],
   "source": [
    "# extremely shallow single-layer model\n",
    "shallow_single_layer_model = models.Sequential()  # this is Keras's way of specifying a model that is a single sequence of layers\n",
    "shallow_single_layer_model.add(layers.Dense(10, activation='softmax', input_shape=(784,)))\n",
    "shallow_single_layer_model.summary()"
   ]
  },
  {
   "cell_type": "code",
   "execution_count": 11,
   "metadata": {
    "collapsed": true
   },
   "outputs": [],
   "source": [
    "shallow_single_layer_model.compile(optimizer='rmsprop',\n",
    "                                   loss='categorical_crossentropy',\n",
    "                                   metrics=['accuracy'])"
   ]
  },
  {
   "cell_type": "code",
   "execution_count": 12,
   "metadata": {},
   "outputs": [
    {
     "name": "stdout",
     "output_type": "stream",
     "text": [
      "Train on 48000 samples, validate on 12000 samples\n",
      "Epoch 1/5\n",
      "48000/48000 [==============================] - 2s 52us/step - loss: 0.6773 - acc: 0.8320 - val_loss: 0.3634 - val_acc: 0.9040\n",
      "Epoch 2/5\n",
      "48000/48000 [==============================] - 2s 38us/step - loss: 0.3518 - acc: 0.9034 - val_loss: 0.3090 - val_acc: 0.9129\n",
      "Epoch 3/5\n",
      "48000/48000 [==============================] - 2s 38us/step - loss: 0.3159 - acc: 0.9123 - val_loss: 0.2897 - val_acc: 0.9178\n",
      "Epoch 4/5\n",
      "48000/48000 [==============================] - 2s 38us/step - loss: 0.2994 - acc: 0.9157 - val_loss: 0.2819 - val_acc: 0.9220\n",
      "Epoch 5/5\n",
      "48000/48000 [==============================] - 2s 34us/step - loss: 0.2895 - acc: 0.9189 - val_loss: 0.2749 - val_acc: 0.9231\n"
     ]
    },
    {
     "data": {
      "text/plain": [
       "<keras.callbacks.History at 0x2ddcc0d2208>"
      ]
     },
     "execution_count": 12,
     "metadata": {},
     "output_type": "execute_result"
    }
   ],
   "source": [
    "shallow_single_layer_model.fit(flattened_train_images,\n",
    "                               train_labels_categorical,\n",
    "                               validation_split=0.2,\n",
    "                               epochs=5,\n",
    "                               batch_size=128)"
   ]
  },
  {
   "cell_type": "code",
   "execution_count": 13,
   "metadata": {},
   "outputs": [
    {
     "name": "stdout",
     "output_type": "stream",
     "text": [
      "10000/10000 [==============================] - 0s 36us/step\n",
      "Test accuracy: 0.9223\n"
     ]
    }
   ],
   "source": [
    "test_loss, test_acc = shallow_single_layer_model.evaluate(flattened_test_images, test_labels_categorical)\n",
    "print('Test accuracy:', test_acc)"
   ]
  },
  {
   "cell_type": "code",
   "execution_count": 14,
   "metadata": {},
   "outputs": [
    {
     "name": "stdout",
     "output_type": "stream",
     "text": [
      "_________________________________________________________________\n",
      "Layer (type)                 Output Shape              Param #   \n",
      "=================================================================\n",
      "dense_2 (Dense)              (None, 512)               401920    \n",
      "_________________________________________________________________\n",
      "dense_3 (Dense)              (None, 10)                5130      \n",
      "=================================================================\n",
      "Total params: 407,050\n",
      "Trainable params: 407,050\n",
      "Non-trainable params: 0\n",
      "_________________________________________________________________\n"
     ]
    }
   ],
   "source": [
    "# two-layer model\n",
    "two_layer_model = models.Sequential()  # this is Keras's way of specifying a model that is a single sequence of layers\n",
    "two_layer_model.add(layers.Dense(512, activation='relu', input_shape=(784,)))\n",
    "two_layer_model.add(layers.Dense(10, activation='softmax'))\n",
    "two_layer_model.compile(optimizer='rmsprop',\n",
    "                        loss='categorical_crossentropy',\n",
    "                        metrics=['accuracy'])\n",
    "two_layer_model.summary()"
   ]
  },
  {
   "cell_type": "code",
   "execution_count": 15,
   "metadata": {},
   "outputs": [
    {
     "name": "stdout",
     "output_type": "stream",
     "text": [
      "Train on 48000 samples, validate on 12000 samples\n",
      "Epoch 1/5\n",
      "48000/48000 [==============================] - 11s 225us/step - loss: 0.2850 - acc: 0.9170 - val_loss: 0.1450 - val_acc: 0.9593\n",
      "Epoch 2/5\n",
      "48000/48000 [==============================] - 10s 215us/step - loss: 0.1200 - acc: 0.9641 - val_loss: 0.1080 - val_acc: 0.9677\n",
      "Epoch 3/5\n",
      "48000/48000 [==============================] - 10s 209us/step - loss: 0.0774 - acc: 0.9770 - val_loss: 0.0925 - val_acc: 0.9717\n",
      "Epoch 4/5\n",
      "48000/48000 [==============================] - 10s 218us/step - loss: 0.0567 - acc: 0.9830 - val_loss: 0.0836 - val_acc: 0.9749\n",
      "Epoch 5/5\n",
      "48000/48000 [==============================] - 11s 220us/step - loss: 0.0418 - acc: 0.9879 - val_loss: 0.0829 - val_acc: 0.9747\n"
     ]
    },
    {
     "data": {
      "text/plain": [
       "<keras.callbacks.History at 0x2ddccb43f28>"
      ]
     },
     "execution_count": 15,
     "metadata": {},
     "output_type": "execute_result"
    }
   ],
   "source": [
    "two_layer_model.fit(flattened_train_images,\n",
    "                    train_labels_categorical,\n",
    "                    validation_split=0.2,\n",
    "                    epochs=5,\n",
    "                    batch_size=128)"
   ]
  },
  {
   "cell_type": "code",
   "execution_count": 16,
   "metadata": {},
   "outputs": [
    {
     "name": "stdout",
     "output_type": "stream",
     "text": [
      "10000/10000 [==============================] - 1s 83us/step\n",
      "Test accuracy: 0.9777\n"
     ]
    }
   ],
   "source": [
    "test_loss, test_acc = two_layer_model.evaluate(flattened_test_images, test_labels_categorical)\n",
    "print('Test accuracy:', test_acc)"
   ]
  },
  {
   "cell_type": "code",
   "execution_count": 19,
   "metadata": {},
   "outputs": [
    {
     "name": "stdout",
     "output_type": "stream",
     "text": [
      "(60000, 28, 28)\n",
      "(60000, 28, 28, 1)\n"
     ]
    }
   ],
   "source": [
    "print(train_images.shape)\n",
    "scaled_train_images = train_images.reshape(len(train_images), train_images.shape[1], train_images.shape[2], -1)  # flattens out each training image\n",
    "print(scaled_train_images.shape)\n",
    "scaled_test_images = test_images.reshape(len(test_images), test_images.shape[1], test_images.shape[2], -1)  # flattens out each test image\n",
    "scaled_train_images = scaled_train_images.astype(np.float32) / 255  # rescale to be between 0 and 1\n",
    "scaled_test_images = scaled_test_images.astype(np.float32) / 255  # rescale to be between 0 and 1"
   ]
  },
  {
   "cell_type": "code",
   "execution_count": 18,
   "metadata": {},
   "outputs": [
    {
     "name": "stdout",
     "output_type": "stream",
     "text": [
      "(60000, 28, 28, 1)\n"
     ]
    }
   ],
   "source": [
    "print(scaled_train_images.shape)"
   ]
  },
  {
   "cell_type": "code",
   "execution_count": 20,
   "metadata": {},
   "outputs": [
    {
     "name": "stdout",
     "output_type": "stream",
     "text": [
      "_________________________________________________________________\n",
      "Layer (type)                 Output Shape              Param #   \n",
      "=================================================================\n",
      "conv2d_1 (Conv2D)            (None, 26, 26, 32)        320       \n",
      "_________________________________________________________________\n",
      "max_pooling2d_1 (MaxPooling2 (None, 13, 13, 32)        0         \n",
      "_________________________________________________________________\n",
      "flatten_1 (Flatten)          (None, 5408)              0         \n",
      "_________________________________________________________________\n",
      "dense_4 (Dense)              (None, 512)               2769408   \n",
      "_________________________________________________________________\n",
      "dense_5 (Dense)              (None, 10)                5130      \n",
      "=================================================================\n",
      "Total params: 2,774,858\n",
      "Trainable params: 2,774,858\n",
      "Non-trainable params: 0\n",
      "_________________________________________________________________\n"
     ]
    }
   ],
   "source": [
    "simple_convnet_model = models.Sequential()\n",
    "#filters=32 kernel sixe 3*3\n",
    "simple_convnet_model.add(layers.Conv2D(32, (3, 3), activation='relu', input_shape=(28, 28, 1)))\n",
    "simple_convnet_model.add(layers.MaxPooling2D((2, 2)))\n",
    "simple_convnet_model.add(layers.Flatten())\n",
    "simple_convnet_model.add(layers.Dense(512, activation='relu'))\n",
    "simple_convnet_model.add(layers.Dense(10, activation='softmax'))\n",
    "simple_convnet_model.summary()\n",
    "\n",
    "simple_convnet_model.compile(optimizer='rmsprop',\n",
    "                             loss='categorical_crossentropy',\n",
    "                             metrics=['accuracy'])"
   ]
  },
  {
   "cell_type": "code",
   "execution_count": 21,
   "metadata": {},
   "outputs": [
    {
     "name": "stdout",
     "output_type": "stream",
     "text": [
      "Train on 48000 samples, validate on 12000 samples\n",
      "Epoch 1/5\n",
      "48000/48000 [==============================] - 74s 2ms/step - loss: 0.2083 - acc: 0.9357 - val_loss: 0.0770 - val_acc: 0.9773\n",
      "Epoch 2/5\n",
      "48000/48000 [==============================] - 72s 2ms/step - loss: 0.0574 - acc: 0.9822 - val_loss: 0.0575 - val_acc: 0.9826\n",
      "Epoch 3/5\n",
      "48000/48000 [==============================] - 72s 1ms/step - loss: 0.0341 - acc: 0.9897 - val_loss: 0.0477 - val_acc: 0.9862\n",
      "Epoch 4/5\n",
      "48000/48000 [==============================] - 72s 1ms/step - loss: 0.0219 - acc: 0.9929 - val_loss: 0.0486 - val_acc: 0.9873\n",
      "Epoch 5/5\n",
      "48000/48000 [==============================] - 70s 1ms/step - loss: 0.0143 - acc: 0.9952 - val_loss: 0.0576 - val_acc: 0.9857\n"
     ]
    },
    {
     "data": {
      "text/plain": [
       "<keras.callbacks.History at 0x2ddcd70ea20>"
      ]
     },
     "execution_count": 21,
     "metadata": {},
     "output_type": "execute_result"
    }
   ],
   "source": [
    "simple_convnet_model.fit(scaled_train_images,\n",
    "                         train_labels_categorical,\n",
    "                         validation_split=0.2,\n",
    "                         epochs=5,\n",
    "                         batch_size=128)"
   ]
  },
  {
   "cell_type": "code",
   "execution_count": 21,
   "metadata": {},
   "outputs": [
    {
     "name": "stdout",
     "output_type": "stream",
     "text": [
      "10000/10000 [==============================] - 4s 366us/step\n",
      "Test accuracy: 0.9848\n"
     ]
    }
   ],
   "source": [
    "test_loss, test_acc = simple_convnet_model.evaluate(scaled_test_images, test_labels_categorical)\n",
    "print('Test accuracy:', test_acc)"
   ]
  },
  {
   "cell_type": "code",
   "execution_count": 26,
   "metadata": {},
   "outputs": [
    {
     "name": "stdout",
     "output_type": "stream",
     "text": [
      "_________________________________________________________________\n",
      "Layer (type)                 Output Shape              Param #   \n",
      "=================================================================\n",
      "conv2d_2 (Conv2D)            (None, 26, 26, 32)        320       \n",
      "_________________________________________________________________\n",
      "max_pooling2d_2 (MaxPooling2 (None, 13, 13, 32)        0         \n",
      "_________________________________________________________________\n",
      "flatten_2 (Flatten)          (None, 5408)              0         \n",
      "_________________________________________________________________\n",
      "dense_6 (Dense)              (None, 64)                346176    \n",
      "_________________________________________________________________\n",
      "dense_7 (Dense)              (None, 10)                650       \n",
      "=================================================================\n",
      "Total params: 347,146\n",
      "Trainable params: 347,146\n",
      "Non-trainable params: 0\n",
      "_________________________________________________________________\n"
     ]
    }
   ],
   "source": [
    "simple_convnet_model_avoid_overfitting = models.Sequential()\n",
    "###output,kernel size, input size\n",
    "simple_convnet_model_avoid_overfitting.add(layers.Conv2D(32, (3, 3), activation='relu', input_shape=(28, 28, 1)))\n",
    "simple_convnet_model_avoid_overfitting.add(layers.MaxPooling2D((2, 2)))\n",
    "simple_convnet_model_avoid_overfitting.add(layers.Flatten())\n",
    "simple_convnet_model_avoid_overfitting.add(layers.Dense(64, activation='relu'))\n",
    "simple_convnet_model_avoid_overfitting.add(layers.Dense(10, activation='softmax'))\n",
    "simple_convnet_model_avoid_overfitting.summary()\n",
    "\n",
    "simple_convnet_model_avoid_overfitting.compile(optimizer='rmsprop',\n",
    "                                               loss='categorical_crossentropy',\n",
    "                                               metrics=['accuracy'])"
   ]
  },
  {
   "cell_type": "code",
   "execution_count": 27,
   "metadata": {},
   "outputs": [
    {
     "name": "stdout",
     "output_type": "stream",
     "text": [
      "Train on 48000 samples, validate on 12000 samples\n",
      "Epoch 1/5\n",
      "48000/48000 [==============================] - 31s 639us/step - loss: 0.7022 - acc: 0.7945 - val_loss: 0.3449 - val_acc: 0.8918\n",
      "Epoch 2/5\n",
      "48000/48000 [==============================] - 30s 617us/step - loss: 0.3055 - acc: 0.9079 - val_loss: 0.2329 - val_acc: 0.9311\n",
      "Epoch 3/5\n",
      "48000/48000 [==============================] - 30s 616us/step - loss: 0.2233 - acc: 0.9326 - val_loss: 0.2096 - val_acc: 0.9368\n",
      "Epoch 4/5\n",
      "48000/48000 [==============================] - 30s 625us/step - loss: 0.1722 - acc: 0.9493 - val_loss: 0.1554 - val_acc: 0.9556\n",
      "Epoch 5/5\n",
      "48000/48000 [==============================] - 30s 619us/step - loss: 0.1340 - acc: 0.9600 - val_loss: 0.1247 - val_acc: 0.9634\n"
     ]
    },
    {
     "data": {
      "text/plain": [
       "<keras.callbacks.History at 0x2ddd0909588>"
      ]
     },
     "execution_count": 27,
     "metadata": {},
     "output_type": "execute_result"
    }
   ],
   "source": [
    "simple_convnet_model_avoid_overfitting.fit(scaled_train_images,\n",
    "                                           train_labels_categorical,\n",
    "                                           validation_split=0.2,\n",
    "                                           epochs=5,\n",
    "                                           batch_size=1000)"
   ]
  },
  {
   "cell_type": "code",
   "execution_count": 28,
   "metadata": {},
   "outputs": [
    {
     "name": "stdout",
     "output_type": "stream",
     "text": [
      "10000/10000 [==============================] - 3s 266us/step\n",
      "Test accuracy: 0.9642\n"
     ]
    }
   ],
   "source": [
    "test_loss, test_acc = simple_convnet_model_avoid_overfitting.evaluate(scaled_test_images, test_labels_categorical)\n",
    "print('Test accuracy:', test_acc)"
   ]
  },
  {
   "cell_type": "code",
   "execution_count": 29,
   "metadata": {},
   "outputs": [
    {
     "name": "stdout",
     "output_type": "stream",
     "text": [
      "_________________________________________________________________\n",
      "Layer (type)                 Output Shape              Param #   \n",
      "=================================================================\n",
      "conv2d_3 (Conv2D)            (None, 26, 26, 32)        320       \n",
      "_________________________________________________________________\n",
      "max_pooling2d_3 (MaxPooling2 (None, 13, 13, 32)        0         \n",
      "_________________________________________________________________\n",
      "conv2d_4 (Conv2D)            (None, 11, 11, 32)        9248      \n",
      "_________________________________________________________________\n",
      "max_pooling2d_4 (MaxPooling2 (None, 5, 5, 32)          0         \n",
      "_________________________________________________________________\n",
      "flatten_3 (Flatten)          (None, 800)               0         \n",
      "_________________________________________________________________\n",
      "dense_8 (Dense)              (None, 64)                51264     \n",
      "_________________________________________________________________\n",
      "dense_9 (Dense)              (None, 10)                650       \n",
      "=================================================================\n",
      "Total params: 61,482\n",
      "Trainable params: 61,482\n",
      "Non-trainable params: 0\n",
      "_________________________________________________________________\n"
     ]
    }
   ],
   "source": [
    "deeper_convnet_model_avoid_overfitting = models.Sequential()\n",
    "deeper_convnet_model_avoid_overfitting.add(layers.Conv2D(32, (3, 3), activation='relu', input_shape=(28, 28, 1)))\n",
    "deeper_convnet_model_avoid_overfitting.add(layers.MaxPooling2D((2, 2)))\n",
    "deeper_convnet_model_avoid_overfitting.add(layers.Conv2D(32, (3, 3), activation='relu'))\n",
    "deeper_convnet_model_avoid_overfitting.add(layers.MaxPooling2D((2, 2)))\n",
    "deeper_convnet_model_avoid_overfitting.add(layers.Flatten())\n",
    "deeper_convnet_model_avoid_overfitting.add(layers.Dense(64, activation='relu'))\n",
    "deeper_convnet_model_avoid_overfitting.add(layers.Dense(10, activation='softmax'))\n",
    "deeper_convnet_model_avoid_overfitting.summary()\n",
    "\n",
    "deeper_convnet_model_avoid_overfitting.compile(optimizer='rmsprop',\n",
    "                                               loss='categorical_crossentropy',\n",
    "                                               metrics=['accuracy'])"
   ]
  },
  {
   "cell_type": "code",
   "execution_count": 30,
   "metadata": {},
   "outputs": [
    {
     "name": "stdout",
     "output_type": "stream",
     "text": [
      "Train on 48000 samples, validate on 12000 samples\n",
      "Epoch 1/5\n",
      "48000/48000 [==============================] - 47s 974us/step - loss: 0.9271 - acc: 0.7205 - val_loss: 0.3923 - val_acc: 0.8859\n",
      "Epoch 2/5\n",
      "48000/48000 [==============================] - 46s 949us/step - loss: 0.3396 - acc: 0.8974 - val_loss: 0.2267 - val_acc: 0.9316\n",
      "Epoch 3/5\n",
      "48000/48000 [==============================] - 46s 953us/step - loss: 0.2110 - acc: 0.9360 - val_loss: 0.1540 - val_acc: 0.9560\n",
      "Epoch 4/5\n",
      "48000/48000 [==============================] - 46s 956us/step - loss: 0.1456 - acc: 0.9560 - val_loss: 0.1748 - val_acc: 0.9474\n",
      "Epoch 5/5\n",
      "48000/48000 [==============================] - 47s 969us/step - loss: 0.1112 - acc: 0.9663 - val_loss: 0.0944 - val_acc: 0.9733\n"
     ]
    },
    {
     "data": {
      "text/plain": [
       "<keras.callbacks.History at 0x2ddd4316710>"
      ]
     },
     "execution_count": 30,
     "metadata": {},
     "output_type": "execute_result"
    }
   ],
   "source": [
    "deeper_convnet_model_avoid_overfitting.fit(scaled_train_images,\n",
    "                                           train_labels_categorical,\n",
    "                                           validation_split=0.2,\n",
    "                                           epochs=5,\n",
    "                                           batch_size=1000)"
   ]
  },
  {
   "cell_type": "code",
   "execution_count": 31,
   "metadata": {},
   "outputs": [
    {
     "name": "stdout",
     "output_type": "stream",
     "text": [
      "10000/10000 [==============================] - 5s 464us/step\n",
      "Test accuracy: 0.9744\n"
     ]
    }
   ],
   "source": [
    "test_loss, test_acc = deeper_convnet_model_avoid_overfitting.evaluate(scaled_test_images, test_labels_categorical)\n",
    "print('Test accuracy:', test_acc)"
   ]
  },
  {
   "cell_type": "code",
   "execution_count": null,
   "metadata": {
    "collapsed": true
   },
   "outputs": [],
   "source": []
  }
 ],
 "metadata": {
  "kernelspec": {
   "display_name": "Python 3",
   "language": "python",
   "name": "python3"
  },
  "language_info": {
   "codemirror_mode": {
    "name": "ipython",
    "version": 3
   },
   "file_extension": ".py",
   "mimetype": "text/x-python",
   "name": "python",
   "nbconvert_exporter": "python",
   "pygments_lexer": "ipython3",
   "version": "3.6.3"
  }
 },
 "nbformat": 4,
 "nbformat_minor": 2
}
