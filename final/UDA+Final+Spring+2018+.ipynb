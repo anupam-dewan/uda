{
 "cells": [
  {
   "cell_type": "markdown",
   "metadata": {},
   "source": [
    "# UDA Final\n",
    "\n",
    "*Spring 2018, Mini 4*"
   ]
  },
  {
   "cell_type": "markdown",
   "metadata": {},
   "source": [
    "# Part 1 [80 points]\n",
    "In this question, you will explore how dimensionality reduction techniques may aid in prediction tasks. \n",
    "\n",
    "To consider this, we will use the 20 Newsgroup dataset.  The 20 Newsgroups data set is a collection of approximately 18,000 newsgroup documents, partitioned (nearly) evenly across 20 different newsgroups. Some of the newsgroups are very closely related to each other (e.g. comp.sys.ibm.pc.hardware / comp.sys.mac.hardware), while others are highly unrelated (e.g misc.forsale / soc.religion.christian). (http://qwone.com/~jason/20Newsgroups/)  For this question, you will consider a subset of ~4,700 articles from the following 5 categories:\n",
    "   - `comp.sys.ibm.pc.hardware`\n",
    "   - `comp.sys.mac.hardware`\n",
    "   - `rec.sport.baseball`\n",
    "   - `sci.space`\n",
    "   - `talk.politics.misc`\n",
    "\n",
    "You will consider 3 approaches to the task of predicting articles' newsgroups. At the end of this part of the exam, you should be able to fill in this table:\n",
    "\n",
    "| Dimensionality Reduction Technique | kNN Accuracy |  Optimal k  |  \n",
    "| :---: | ---\n",
    "| None (Word Frequencies) | | | \n",
    "| Topic Modeling | | | \n",
    "| t-SNE | | |  |\n"
   ]
  },
  {
   "cell_type": "markdown",
   "metadata": {},
   "source": [
    "## Get the 20 Newsgroups data \n",
    "First, load the data.  Note that this data has been split into two sets: one for training (exploratory data analysis and model selection) and the other one for testing (performance evaluation). The split between the train and test set is based upon a messages posted before and after a specific date. (http://scikit-learn.org/stable/datasets/twenty_newsgroups.html)  \n",
    "\n",
    "We have also loaded labels that indicate each article's newsgroup, and the list of label names.  "
   ]
  },
  {
   "cell_type": "code",
   "execution_count": 1,
   "metadata": {
    "collapsed": true
   },
   "outputs": [],
   "source": [
    "from sklearn.datasets import fetch_20newsgroups\n",
    "import numpy as np\n",
    "\n",
    "cats = ['comp.sys.ibm.pc.hardware', 'comp.sys.mac.hardware', 'rec.sport.baseball', 'sci.space', 'talk.politics.misc']\n",
    "\n",
    "train_dataset = fetch_20newsgroups(subset='train', shuffle=True, random_state=95865, remove=('headers', 'footers', 'quotes'), categories = cats)\n",
    "train_documents = train_dataset.data\n",
    "train_labels = np.array(train_dataset.target)\n",
    "\n",
    "test_dataset = fetch_20newsgroups(subset='test', shuffle=True, random_state=95865, remove=('headers', 'footers', 'quotes'), categories = cats)\n",
    "test_documents = test_dataset.data\n",
    "test_labels = np.array(test_dataset.target)\n",
    "\n",
    "all_documents = train_documents + test_documents\n",
    "all_labels = np.array(list(train_labels) + list(test_labels))\n",
    "\n",
    "label_names = list(train_dataset.target_names)"
   ]
  },
  {
   "cell_type": "code",
   "execution_count": 2,
   "metadata": {},
   "outputs": [
    {
     "name": "stdout",
     "output_type": "stream",
     "text": [
      "talk.politics.misc\n",
      "-------------------------------------------------------------------\n",
      "\n",
      "Cite one of these conflicting statutes.  You keep making\n",
      "these assertions, but you haven't supported any of them yet.\n",
      "I am speaking of statutes that conflict with the definition\n",
      "Larry posted.\n",
      "\n",
      "Why did you delete the code that Larry posted?\n",
      "\n",
      "Also, the Model Penal Code made perfect sense to me.  Were you,\n",
      "perhaps, confused by it?\n",
      "\n",
      "Also, I am still looking for your definition.  The one you used\n",
      "clearly indicates that a fetus is not a human being.\n",
      "\n",
      "\n",
      "Circular arguments are usually very consistent.\n",
      "\n",
      "\n",
      "\n",
      "Again, your desire for consistency disappears when it does not suit\n",
      "your needs.  The principle of protecting life is abandoned based\n",
      "on \"action versus inaction.\"  Not much of a principle.  Suddenly\n",
      "you recognize that the claim on bodily resources is dependent\n",
      "on circumstances other than this principle of life.  That's\n",
      "a very conevnient principle you have there, Matt.\n"
     ]
    }
   ],
   "source": [
    "print(label_names[train_labels[0]])\n",
    "print(\"-------------------------------------------------------------------\")\n",
    "print(train_documents[0])"
   ]
  },
  {
   "cell_type": "markdown",
   "metadata": {},
   "source": [
    "## Approach 1: Baseline (Word Frequencies) [10 points]\n",
    "\n",
    "In the first approach, you will construct a matrix of word frequencies and use kNN for prediction. More details are given for each task. "
   ]
  },
  {
   "cell_type": "markdown",
   "metadata": {},
   "source": [
    "### Construct the document matrix [5 points]\n",
    "\n",
    "   - Use the `CountVectorizer` from scikit-learn.\n",
    "   - Set `min_df=2`; this drops words that don't occur in at least 2 documents.\n",
    "   - Set `stop_words=\"english\"` and `max_df=0.95` to filter out stop-words.\n",
    "   - Set `max_features=1000` to only consider the 1,000 most frequent terms in the corpus."
   ]
  },
  {
   "cell_type": "code",
   "execution_count": 183,
   "metadata": {},
   "outputs": [],
   "source": [
    "# your code here\n",
    "from sklearn.feature_extraction.text import TfidfVectorizer\n",
    "vect_obj=TfidfVectorizer(stop_words='english', min_df=50,max_df=0.8)\n",
    "X=vect_obj.fit_transform(train_documents)\n",
    "X_test = vect_obj.transform(test_documents)\n",
    "X_all = vect_obj.transform(all_documents)\n",
    "# vocab = set(vect_obj.vocabulary_)\n",
    "# print(len(vocab))"
   ]
  },
  {
   "cell_type": "markdown",
   "metadata": {},
   "source": [
    "### Model Selection to find the optimal number of neighbors (k) [3 points]\n",
    "* Train a kNN model to predict the newsgroup category.  \n",
    "* Use the documents' word frequencies as the features in this model (the x's).  \n",
    "* Use 5 fold Cross Validation to find the number of neighbors which gives the highest accuracy in predicting the newsgroup.\n",
    "* Select between k = 1, 2, 5, 10, 25, 100 or 1000\n"
   ]
  },
  {
   "cell_type": "code",
   "execution_count": 184,
   "metadata": {},
   "outputs": [
    {
     "name": "stdout",
     "output_type": "stream",
     "text": [
      "best k: 1000\n"
     ]
    }
   ],
   "source": [
    "# # your code here\n",
    "from sklearn.neighbors import KNeighborsClassifier\n",
    "from sklearn.metrics import accuracy_score\n",
    "from sklearn.model_selection import KFold\n",
    "num_folds = 5\n",
    "k_fold = KFold(num_folds)\n",
    "param_values_knn = [1,2,5,10,25,100,1000]\n",
    "arg_max_knn = None\n",
    "max_cross_val_score_knn = -np.inf\n",
    "x=X\n",
    "y=np.array(train_labels)\n",
    "for C in param_values_knn:\n",
    "    fold_scores=[]\n",
    "    for train, val in k_fold.split(X):\n",
    "        knn = KNeighborsClassifier(n_neighbors=C)\n",
    "        knn.fit(x[train],y[train])\n",
    "        y_pred = knn.predict(x[val])\n",
    "        accuracy = accuracy_score(y[val], y_pred)\n",
    "        fold_scores.append(accuracy)\n",
    "    cross_val_score_knn = np.mean(fold_scores)\n",
    "    if cross_val_score_knn > max_cross_val_score_knn:\n",
    "        max_cross_val_score_knn = cross_val_score_knn\n",
    "        arg_max_knn = C\n",
    "            \n",
    "best_k = arg_max_knn\n",
    "print(\"best k:\",best_k)\n",
    "    "
   ]
  },
  {
   "cell_type": "markdown",
   "metadata": {},
   "source": [
    "### Model Evaluation [2 points]\n",
    "\n",
    "* Write code to determine how well the selected model performs on the held out test data.\n"
   ]
  },
  {
   "cell_type": "code",
   "execution_count": 185,
   "metadata": {},
   "outputs": [
    {
     "name": "stdout",
     "output_type": "stream",
     "text": [
      "Accuracy 0.67731629393\n"
     ]
    }
   ],
   "source": [
    "# your code here\n",
    "knn = KNeighborsClassifier(n_neighbors=best_k)\n",
    "knn.fit(x,y)\n",
    "y_pred_knn = knn.predict(X_test)\n",
    "y_test_knn=test_labels\n",
    "accuracy = accuracy_score(test_labels, y_pred_knn)\n",
    "print(\"Accuracy\",accuracy)"
   ]
  },
  {
   "cell_type": "markdown",
   "metadata": {},
   "source": [
    "## Approach 2: Topic Modeling for Dimensionality Reduction  [35 points]\n",
    "\n",
    "In this approach, you will use topic modeling for dimensionality reduction.  You will again train a k-NN model to predict the newsgroup.  However, in this approach you will first perform topic modeling for dimensionality reduction.  You will then use the documents' distributions over topics as the features (the x's) in the k-NN model."
   ]
  },
  {
   "cell_type": "markdown",
   "metadata": {},
   "source": [
    "### Run LDA for k = 2, 3, ... 10 topics [5 points]\n",
    "\n",
    "* Perform LDA on the entire corpus (training + test documents). \n",
    "* Recall that LDA models learn the topics distributions' over words and the documents' distributions over topics.  You will need to access these to compute the coherence metric for the model. Please store these elements for each LDA model that you learn. \n",
    "* When learning your LDA models, use the following parameters:\n",
    "   - Set `max_iter=1`\n",
    "   - Set `learning_method = \"online\"` \n",
    "   - Set `random_state = 95865` "
   ]
  },
  {
   "cell_type": "code",
   "execution_count": 46,
   "metadata": {},
   "outputs": [],
   "source": [
    "# your code here\n",
    "from sklearn.decomposition import LatentDirichletAllocation\n",
    "num_topics=10\n",
    "elements=[]\n",
    "for k in range(2,num_topics):\n",
    "    lda = LatentDirichletAllocation(n_components=k, learning_method='online', random_state=95865,max_iter=1)\n",
    "    lda.fit(X_all)\n",
    "    elements.append(lda)"
   ]
  },
  {
   "cell_type": "markdown",
   "metadata": {},
   "source": [
    "### Function to compute topic coherence [10 points]\n",
    "* We will use coherence to determine the optimal number of topics.  Coherence has similarities to pointwise mutual information (PMI), and research has found that it is a useful metric for selecting the optimal number of topics.  We discussed coherence in class, but have not computed it until now.  \n",
    "\n",
    "\n",
    "* Coherence is computed as follows:\n",
    "* Let $D(v)$ be the document frequency of word v (i.e., the number of documents with least one token of type v), and let $D(v, v')$ be the co-document frequency of words v and v' (i.e., the number of documents containing both v and v', not necessarily in sequence):\n",
    "* Let $V^{(t)} = (v_1^{(t)}, v_2^{(t)}, ... , v_M^{(t)})$ be a list of the M most probable words in topic t.\n",
    "\n",
    "\n",
    "$$\n",
    "    \\textrm{Coherence for topic t} = \\sum_{m=2}^{M}\\sum_{l=1}^{m-1}\\textrm{score}(v_m^{(t)},v_l^{(t)})\\\\\n",
    "    \\textrm{score}(v_m^{(t)},v_l^{(t)}) = \\frac{D(v_m^{(t)}, v_l^{(t)}) + 1}{D(v_l^{(t)})}\\\\\n",
    "    \\textrm{Overall coherence of LDA model} = \\textrm{Mean coherence of all topics in LDA model}\n",
    "$$\n",
    "\n",
    "\n",
    "#### Write a function to compute the overall topic coherence for a LDA model.\n",
    "* In your function, let M = 10.\n",
    "* Hint 1: You will need to compute document and co-document frequencies first.\n",
    "* Hint 2: The inputs to the coherence function should be the document frequencies, the co-document frequencies, and the most probable words for each topic. The output should be the overall coherence of the LDA model.\n",
    "* Hint 3: It may be helpful to look at the notes from the PMI recitation, which can be found here:  https://gist.github.com/emaadmanzoor/1d06e0751a3f7d39bc6814941b37531d"
   ]
  },
  {
   "cell_type": "code",
   "execution_count": 76,
   "metadata": {
    "collapsed": true
   },
   "outputs": [],
   "source": [
    "def compute_cx_cxy(vs):\n",
    "    cx = Counter()\n",
    "    cxy = Counter()\n",
    "    for v in vs:\n",
    "        for word in v:\n",
    "            cx[word] += 1\n",
    "        for x, y in map(sorted, combinations(v, 2)):\n",
    "            cxy[(x, y)] += 1\n",
    "    return cx,cxy\n",
    "\n",
    "def coherence(vs, cx, cxy):\n",
    "    M=10\n",
    "    score={}\n",
    "    for k,v in cxy.items():\n",
    "        score[k]=(v+1)/cx[k[1]]\n",
    "    vals=score.values()\n",
    "    n=len(score.keys())\n",
    "    return sum(vals)/n"
   ]
  },
  {
   "cell_type": "code",
   "execution_count": 81,
   "metadata": {},
   "outputs": [
    {
     "name": "stdout",
     "output_type": "stream",
     "text": [
      "LDA with topic: 2\n",
      "1.9111111111111112\n",
      "\n",
      "LDA with topic: 3\n",
      "1.7765151515151516\n",
      "\n",
      "LDA with topic: 4\n",
      "1.8218390804597702\n",
      "\n",
      "LDA with topic: 5\n",
      "1.9129464285714286\n",
      "\n",
      "LDA with topic: 6\n",
      "1.7083333333333333\n",
      "\n",
      "LDA with topic: 7\n",
      "1.879365079365079\n",
      "\n",
      "LDA with topic: 8\n",
      "1.7613636363636365\n",
      "\n",
      "LDA with topic: 9\n",
      "1.6712962962962965\n",
      "\n"
     ]
    }
   ],
   "source": [
    "import numpy as np\n",
    "from collections import Counter\n",
    "from itertools import combinations\n",
    "\n",
    "score={}\n",
    "overall_coherence_lst=[]\n",
    "for element in elements:\n",
    "    lst = vect_obj.get_feature_names()\n",
    "    M=10\n",
    "    vs=[]\n",
    "    all_vs =[]\n",
    "    rows,cols = element.components_.shape\n",
    "    topic_word_distributions = np.array([topic_word_pseudocounts / np.sum(topic_word_pseudocounts)\n",
    "                                     for topic_word_pseudocounts in element.components_])\n",
    "    print(\"LDA with topic:\",rows)\n",
    "    for topic_idx in range(rows):\n",
    "        sort_indices = np.argsort(topic_word_distributions[topic_idx])[::-1]\n",
    "        lst2 = sort_indices[:M]\n",
    "        top_m =[lst[l] for l in lst2]\n",
    "        vs.append(top_m)\n",
    "    cx,cy = compute_cx_cxy(vs)\n",
    "    overall_coherence=coherence(vs,cx,cy)\n",
    "    print(overall_coherence)\n",
    "    print()\n",
    "    overall_coherence_lst.append(overall_coherence)\n"
   ]
  },
  {
   "cell_type": "markdown",
   "metadata": {},
   "source": [
    "### Compute and plot the topic coherence for each k [10 points]"
   ]
  },
  {
   "cell_type": "code",
   "execution_count": 84,
   "metadata": {},
   "outputs": [
    {
     "data": {
      "text/plain": [
       "[<matplotlib.lines.Line2D at 0x1f101fba5c0>]"
      ]
     },
     "execution_count": 84,
     "metadata": {},
     "output_type": "execute_result"
    },
    {
     "data": {
      "image/png": "[encoded data removed]",
      "text/plain": [
       "<matplotlib.figure.Figure at 0x1f1004c3438>"
      ]
     },
     "metadata": {},
     "output_type": "display_data"
    }
   ],
   "source": [
    "# your code here\n",
    "%matplotlib inline\n",
    "import matplotlib.pyplot as plt\n",
    "import seaborn as sns\n",
    "plt.style.use('ggplot')  # prettier plots\n",
    "num_topics=10\n",
    "k_lst = range(2,num_topics)\n",
    "plt.plot(k_lst,overall_coherence_lst)"
   ]
  },
  {
   "cell_type": "markdown",
   "metadata": {},
   "source": [
    "### Print the top 10 words for each topic in the best topic model [ 5 points]\n",
    "* Based on your coherence results, select the optimal number of topics.  \n",
    "* Note that larger coherence values are better.\n",
    "* Print the top 10 words for each topic in the selected LDA model"
   ]
  },
  {
   "cell_type": "code",
   "execution_count": 88,
   "metadata": {},
   "outputs": [
    {
     "name": "stdout",
     "output_type": "stream",
     "text": [
      "===========\n",
      "[Topic 0]\n",
      "monitor\n",
      "simms\n",
      "rights\n",
      "oh\n",
      "17\n",
      "anybody\n",
      "sorry\n",
      "idea\n",
      "person\n",
      "source\n",
      "============\n",
      "\n",
      "===========\n",
      "[Topic 1]\n",
      "drive\n",
      "thanks\n",
      "card\n",
      "mac\n",
      "scsi\n",
      "know\n",
      "use\n",
      "does\n",
      "apple\n",
      "pc\n",
      "============\n",
      "\n",
      "===========\n",
      "[Topic 2]\n",
      "edu\n",
      "internet\n",
      "thought\n",
      "sort\n",
      "david\n",
      "article\n",
      "assume\n",
      "like\n",
      "heard\n",
      "did\n",
      "============\n",
      "\n",
      "===========\n",
      "[Topic 3]\n",
      "game\n",
      "baseball\n",
      "games\n",
      "team\n",
      "year\n",
      "hit\n",
      "players\n",
      "ball\n",
      "play\n",
      "season\n",
      "============\n",
      "\n",
      "===========\n",
      "[Topic 4]\n",
      "people\n",
      "don\n",
      "space\n",
      "like\n",
      "just\n",
      "think\n",
      "time\n",
      "know\n",
      "did\n",
      "right\n",
      "============\n",
      "\n"
     ]
    }
   ],
   "source": [
    "# your code here\n",
    "k=5\n",
    "lda = LatentDirichletAllocation(n_components=k, learning_method='online', random_state=95865,max_iter=1)\n",
    "lda.fit(X_all)\n",
    "topic_word_distributions = np.array([topic_word_pseudocounts / np.sum(topic_word_pseudocounts)\n",
    "                                     for topic_word_pseudocounts in lda.components_])\n",
    "lst = vect_obj.get_feature_names()\n",
    "for topic_idx in range(k):\n",
    "    print(\"===========\")\n",
    "    print('[Topic %d]' % topic_idx)\n",
    "    sort_indices = np.argsort(topic_word_distributions[topic_idx])[::-1]\n",
    "    lst2 = sort_indices[:10]\n",
    "    top_m =[lst[l] for l in lst2]\n",
    "    for i in top_m:\n",
    "        print(i)\n",
    "    print(\"============\")\n",
    "    print()"
   ]
  },
  {
   "cell_type": "markdown",
   "metadata": {},
   "source": [
    "### Model Selection to find the optimal number of neighbors (k) [3 points]\n",
    "* Train a kNN model to predict the newsgroup category.  \n",
    "* Use the documents' distributions over topics as the features in this model (the x's).  \n",
    "* Use 5 fold Cross Validation to find the number of neighbors which gives the highest accuracy in predicting the newsgroup.\n",
    "* Select between k = 1, 2, 5, 10, 25, 100 or 1000\n"
   ]
  },
  {
   "cell_type": "code",
   "execution_count": 161,
   "metadata": {},
   "outputs": [
    {
     "name": "stdout",
     "output_type": "stream",
     "text": [
      "best k: 100\n"
     ]
    }
   ],
   "source": [
    "### Partition the Documents' Distribution Over Topics into the Training and Test Set\n",
    "lda = LatentDirichletAllocation(n_components=k, learning_method='online', random_state=95865,max_iter=1)\n",
    "lda.fit(X_all)\n",
    "x_trans=lda.transform(X_all)\n",
    "app_word_distributions = np.array([app_word_pseudocounts / np.sum(app_word_pseudocounts)\n",
    "                                     for app_word_pseudocounts in x_trans])\n",
    "import pandas as pd\n",
    "from sklearn.model_selection import train_test_split\n",
    "X_train, X_test, y_train, y_test = train_test_split(app_word_distributions,all_labels,test_size=0.2)\n",
    "\n",
    "num_folds = 5\n",
    "k_fold = KFold(num_folds)\n",
    "param_values_knn = [1,2,5,10,25,100,1000]\n",
    "arg_max_knn = None\n",
    "max_cross_val_score_knn = -np.inf\n",
    "\n",
    "\n",
    "for C in param_values_knn:\n",
    "    fold_scores=[]\n",
    "    for train, val in k_fold.split(X):\n",
    "        knn = KNeighborsClassifier(n_neighbors=C)\n",
    "        knn.fit(X_train[train],y_train[train])\n",
    "        y_pred = knn.predict(X_train[val])\n",
    "        accuracy = accuracy_score(y_train[val], y_pred)\n",
    "        fold_scores.append(accuracy)\n",
    "    cross_val_score_knn = np.mean(fold_scores)\n",
    "    if cross_val_score_knn > max_cross_val_score_knn:\n",
    "        max_cross_val_score_knn = cross_val_score_knn\n",
    "        arg_max_knn = C\n",
    "            \n",
    "best_k = arg_max_knn\n",
    "print(\"best k:\",best_k)"
   ]
  },
  {
   "cell_type": "markdown",
   "metadata": {},
   "source": [
    "### Model Evaluation [2 points]\n",
    "\n",
    "* Write code to determine how well the selected model performs on the held out test data."
   ]
  },
  {
   "cell_type": "code",
   "execution_count": 179,
   "metadata": {},
   "outputs": [
    {
     "name": "stdout",
     "output_type": "stream",
     "text": [
      "Accuracy 0.402763018066\n"
     ]
    }
   ],
   "source": [
    "knn = KNeighborsClassifier(n_neighbors=best_k)\n",
    "knn.fit(X_train,y_train)\n",
    "y_pred_lda = knn.predict(X_test)\n",
    "y_test_lda=y_test\n",
    "accuracy = accuracy_score(y_test, y_pred)\n",
    "print(\"Accuracy\",accuracy)"
   ]
  },
  {
   "cell_type": "markdown",
   "metadata": {},
   "source": [
    "## Approach 3: t-SNE for Dimensionality Reduction [20 points]\n",
    "\n",
    "In this approach, you will use t-SNE for dimensionality reduction.  You will again train a k-NN model to predict the newsgroup.  However, in this approach you will use PCA and t-SNE for dimensionality reduction. You will then use the 2D t-SNE representation of the documents as the features (the x's) in this k-NN model."
   ]
  },
  {
   "cell_type": "markdown",
   "metadata": {},
   "source": [
    "### Perform Dimensionality Reduction [13 points]\n",
    "* Perform dimensionality reduction on the entire corpus of data (training + test documents).\n",
    "* Use PCA to project the word frequency matrix down to 30 dimensions.\n",
    "* Perform t-SNE on this 30 dimensional data. \n",
    "   - Set `n_components=2`.\n",
    "   - Set `perplexity = 40`.\n",
    "   - Set `random_state = 95865`"
   ]
  },
  {
   "cell_type": "code",
   "execution_count": 173,
   "metadata": {},
   "outputs": [
    {
     "name": "stdout",
     "output_type": "stream",
     "text": [
      "(4701, 527)\n",
      "[t-SNE] Computing 121 nearest neighbors...\n",
      "[t-SNE] Indexed 4701 samples in 0.199s...\n",
      "[t-SNE] Computed neighbors for 4701 samples in 24.384s...\n",
      "[t-SNE] Computed conditional probabilities for sample 1000 / 4701\n",
      "[t-SNE] Computed conditional probabilities for sample 2000 / 4701\n",
      "[t-SNE] Computed conditional probabilities for sample 3000 / 4701\n",
      "[t-SNE] Computed conditional probabilities for sample 4000 / 4701\n",
      "[t-SNE] Computed conditional probabilities for sample 4701 / 4701\n",
      "[t-SNE] Mean sigma: 0.000000\n",
      "[t-SNE] KL divergence after 250 iterations with early exaggeration: 109.735390\n",
      "[t-SNE] Error after 1000 iterations: 2.357368\n"
     ]
    }
   ],
   "source": [
    "# your code here\n",
    "from sklearn.decomposition import PCA\n",
    "new_pca = PCA(n_components=30,random_state = 95865)\n",
    "x_all= X_all.toarray()\n",
    "print(X_all.shape)\n",
    "reduced_Data = new_pca.fit_transform(x_all)\n",
    "from sklearn.manifold import TSNE\n",
    "tsne = TSNE(n_components=2, verbose=1, perplexity=40,random_state = 95865)\n",
    "tsne2d = tsne.fit_transform(x_all)\n"
   ]
  },
  {
   "cell_type": "markdown",
   "metadata": {},
   "source": [
    "### Plot the t-SNE 2-D representation of the data [2 points]"
   ]
  },
  {
   "cell_type": "code",
   "execution_count": 174,
   "metadata": {},
   "outputs": [
    {
     "data": {
      "text/plain": [
       "<matplotlib.collections.PathCollection at 0x1f10217df60>"
      ]
     },
     "execution_count": 174,
     "metadata": {},
     "output_type": "execute_result"
    },
    {
     "data": {
      "image/png": "[encoded data removed]",
      "text/plain": [
       "<matplotlib.figure.Figure at 0x1f10c81a6a0>"
      ]
     },
     "metadata": {},
     "output_type": "display_data"
    }
   ],
   "source": [
    "# your code here\n",
    "plt.scatter(tsne2d[:, 0], tsne2d[:, 1])"
   ]
  },
  {
   "cell_type": "code",
   "execution_count": 175,
   "metadata": {},
   "outputs": [
    {
     "data": {
      "text/plain": [
       "(4701, 2)"
      ]
     },
     "execution_count": 175,
     "metadata": {},
     "output_type": "execute_result"
    }
   ],
   "source": [
    "tsne2d.shape"
   ]
  },
  {
   "cell_type": "markdown",
   "metadata": {},
   "source": [
    "### Model Selection to find the optimal number of neighbors (k) [3 points]\n",
    "* Train a k-NN model to predict the newsgroup category.  \n",
    "* Use the documents' 2D t-SNE representation as the features in this model (the x's).  \n",
    "* Use 5 fold Cross Validation to find the number of neighbors which gives the highest accuracy in predicting the newsgroup.\n",
    "* Select between k = 1, 2, 5, 10, 25, 100 or 1000\n"
   ]
  },
  {
   "cell_type": "code",
   "execution_count": 176,
   "metadata": {},
   "outputs": [
    {
     "name": "stdout",
     "output_type": "stream",
     "text": [
      "best k: 1\n"
     ]
    }
   ],
   "source": [
    "### Partition the Documents' 2D t-SNE representation into the Training and Test Set\n",
    "X_train, X_test, y_train, y_test = train_test_split(tsne2d,all_labels,test_size=0.2)\n",
    "\n",
    "num_folds = 5\n",
    "k_fold = KFold(num_folds)\n",
    "param_values_knn = [1,2,5,10,25,100,1000]\n",
    "arg_max_knn = None\n",
    "max_cross_val_score_knn = -np.inf\n",
    "\n",
    "\n",
    "for C in param_values_knn:\n",
    "    fold_scores=[]\n",
    "    for train, val in k_fold.split(X):\n",
    "        knn = KNeighborsClassifier(n_neighbors=C)\n",
    "        knn.fit(X_train[train],y_train[train])\n",
    "        y_pred = knn.predict(X_train[val])\n",
    "        accuracy = accuracy_score(y_train[val], y_pred)\n",
    "        fold_scores.append(accuracy)\n",
    "    cross_val_score_knn = np.mean(fold_scores)\n",
    "    if cross_val_score_knn > max_cross_val_score_knn:\n",
    "        max_cross_val_score_knn = cross_val_score_knn\n",
    "        arg_max_knn = C\n",
    "            \n",
    "best_k = arg_max_knn\n",
    "print(\"best k:\",best_k)\n",
    "# your code here"
   ]
  },
  {
   "cell_type": "markdown",
   "metadata": {},
   "source": [
    "### Model Evaluation [2 points]\n",
    "\n",
    "* Write code to determine how well the selected model performs on the held out test data."
   ]
  },
  {
   "cell_type": "code",
   "execution_count": 178,
   "metadata": {},
   "outputs": [
    {
     "name": "stdout",
     "output_type": "stream",
     "text": [
      "Accuracy 0.402763018066\n"
     ]
    }
   ],
   "source": [
    "# your code here\n",
    "knn = KNeighborsClassifier(n_neighbors=best_k)\n",
    "knn.fit(X_train,y_train)\n",
    "y_pred_tsne = knn.predict(X_test)\n",
    "y_test_tsne=y_test\n",
    "accuracy = accuracy_score(y_test, y_pred)\n",
    "print(\"Accuracy\",accuracy)"
   ]
  },
  {
   "cell_type": "markdown",
   "metadata": {},
   "source": [
    "## Interpretation [15 points]"
   ]
  },
  {
   "cell_type": "markdown",
   "metadata": {},
   "source": [
    "### Summarize Accuracy Results [2 points]\n",
    "Please fill out the following table:\n",
    "\n",
    "| Dimensionality Reduction Technique | kNN Accuracy |  Optimal k  |  \n",
    "| :---: | ---\n",
    "| None (Word Frequencies) | | | \n",
    "| Topic Modeling | | | \n",
    "| t-SNE | | |  |\n"
   ]
  },
  {
   "cell_type": "markdown",
   "metadata": {},
   "source": [
    "### Show the Confusion Matrices for Each Approach [5 points]\n",
    "\n",
    "* Please display the confusion matrices for each of the 3 approaches.\n",
    "* Please normalize these matrices so that they show the percent of articles from each true newsgroup that were classified as each of the 5 categories.  "
   ]
  },
  {
   "cell_type": "code",
   "execution_count": 188,
   "metadata": {},
   "outputs": [
    {
     "name": "stdout",
     "output_type": "stream",
     "text": [
      "Confusion Mattrix:\n",
      "[[300  43  27  15   7]\n",
      " [102 208  43  28   4]\n",
      " [ 15   5 351  17   9]\n",
      " [ 19  17  68 268  22]\n",
      " [ 10   6  86  63 145]]\n"
     ]
    },
    {
     "data": {
      "image/png": "[encoded data removed]",
      "text/plain": [
       "<matplotlib.figure.Figure at 0x1f10a99ef98>"
      ]
     },
     "metadata": {},
     "output_type": "display_data"
    },
    {
     "name": "stdout",
     "output_type": "stream",
     "text": [
      "Confusion Mattrix:\n",
      "[[82 52 31 31 20]\n",
      " [39 61 22 29 26]\n",
      " [25 29 94 27 26]\n",
      " [23 29 41 86 30]\n",
      " [13 20 29 20 56]]\n"
     ]
    },
    {
     "data": {
      "image/png": "[encoded data removed]",
      "text/plain": [
       "<matplotlib.figure.Figure at 0x1f1022fd550>"
      ]
     },
     "metadata": {},
     "output_type": "display_data"
    },
    {
     "name": "stdout",
     "output_type": "stream",
     "text": [
      "Confusion Mattrix:\n",
      "[[82 52 31 31 20]\n",
      " [39 61 22 29 26]\n",
      " [25 29 94 27 26]\n",
      " [23 29 41 86 30]\n",
      " [13 20 29 20 56]]\n"
     ]
    },
    {
     "data": {
      "image/png": "[encoded data removed]",
      "text/plain": [
       "<matplotlib.figure.Figure at 0x1f102360cc0>"
      ]
     },
     "metadata": {},
     "output_type": "display_data"
    }
   ],
   "source": [
    "# your code here\n",
    "from sklearn.metrics import confusion_matrix\n",
    "conf = confusion_matrix(y_test_knn, y_pred_knn)\n",
    "print(\"Confusion Mattrix:\")\n",
    "print(conf)\n",
    "import seaborn as sns\n",
    "%matplotlib inline\n",
    "fig2=plt.figure()\n",
    "fig2.add_subplot(111)\n",
    "sns.heatmap(conf,annot=True,square=True,cbar=True,fmt=\"d\")\n",
    "plt.xlabel(\"true label\")\n",
    "plt.ylabel(\"predicted label\")\n",
    "plt.show()\n",
    "\n",
    "from sklearn.metrics import confusion_matrix\n",
    "conf = confusion_matrix(y_test_lda, y_pred_lda)\n",
    "print(\"Confusion Mattrix:\")\n",
    "print(conf)\n",
    "import seaborn as sns\n",
    "%matplotlib inline\n",
    "fig2=plt.figure()\n",
    "fig2.add_subplot(111)\n",
    "sns.heatmap(conf,annot=True,square=True,cbar=True,fmt=\"d\")\n",
    "plt.xlabel(\"true label\")\n",
    "plt.ylabel(\"predicted label\")\n",
    "plt.show()\n",
    "\n",
    "from sklearn.metrics import confusion_matrix\n",
    "conf = confusion_matrix(y_test_tsne, y_pred_tsne)\n",
    "print(\"Confusion Mattrix:\")\n",
    "print(conf)\n",
    "import seaborn as sns\n",
    "%matplotlib inline\n",
    "fig2=plt.figure()\n",
    "fig2.add_subplot(111)\n",
    "sns.heatmap(conf,annot=True,square=True,cbar=True,fmt=\"d\")\n",
    "plt.xlabel(\"true label\")\n",
    "plt.ylabel(\"predicted label\")\n",
    "plt.show()"
   ]
  },
  {
   "cell_type": "markdown",
   "metadata": {},
   "source": [
    "### Short Answer [8 points]"
   ]
  },
  {
   "cell_type": "markdown",
   "metadata": {},
   "source": [
    "#### 1. What insights about the benefits of the various approaches can you gain from the confusion matrices that were not obvious by just looking at the accuracy metric?\n",
    "\n",
    "We see that various approches try to classify documents on various news groups with a similar range of accuracy,"
   ]
  },
  {
   "cell_type": "markdown",
   "metadata": {},
   "source": [
    "#### 2. What is the easiest newsgroup to predict?\n",
    "The maximum occurances of apaticular news group will be the easiest to predict in the document"
   ]
  },
  {
   "cell_type": "markdown",
   "metadata": {},
   "source": [
    "#### 3. Why did we perform dimensionality reduction over the entire corpus?  Why doesn't this violate principles of cross validation?\n",
    "As the data was reallu huge ti help us better visualise the data and still maintain th estructure in data we used PCA and TSNE for dimensionality reduction\n",
    "as we did split the data and applied CV on reduced dmension data we made sure that it does not violate the principles of CV\n",
    "1. Logistic -We can try doing Logistic regression and predict as to what an be the most important news group\n",
    "2. Naieve Bayes -NB can also be used as a baseline for classification\n",
    "3. SVM classification - SVM also helps in classifying the data well"
   ]
  },
  {
   "cell_type": "markdown",
   "metadata": {},
   "source": [
    "#### 4. Name 3 other approaches that you would try for this task.  Explain the potential benefits of each of your proposed approaches.  (2-3 sentences per approach)"
   ]
  },
  {
   "cell_type": "markdown",
   "metadata": {},
   "source": [
    "# Part 2: Deep Learning Architecture [20 points]"
   ]
  },
  {
   "cell_type": "markdown",
   "metadata": {},
   "source": [
    "In this part, we will consider the architecture of a simple deep learning model for time series.  One way to deal with a 1D time series of numbers is to think of it as an image that just happens to have height 1.  \n",
    "\n",
    "In this part, we will consider a simple 1 dimensional ConvNet with the architecture input -> conv layer with ReLu activation -> max pooling.  \n",
    "\n",
    "Suppose that the input is 1 X 7 X 1.  Note that you should interpret these dimensions as Height X Width X Number of Channels, where height is the number of rows, width is the number of columns and channels is the number of colors (e.g. 1 for greyscale). \n",
    "\n",
    "\n",
    "For each layer, please indicate the number of parameters that need to be learned, and the shape of the layer's output."
   ]
  },
  {
   "cell_type": "markdown",
   "metadata": {},
   "source": [
    "### 1. CONV Layer with ReLu activation [10 points]\n",
    "* Suppose that 2, 1 X 3 filters are learned.\n",
    "* Suppose that the amount of zero-padding that is added is 1.\n",
    "* Assume that we do not use a bias vector.\n",
    "\n",
    "#### Response:\n",
    " Number of parameters: \n",
    " \n",
    " Shape of layer output:"
   ]
  },
  {
   "cell_type": "markdown",
   "metadata": {},
   "source": [
    "### 2. Max Pool Layer [5 points]\n",
    "* Suppose that 1 filter of size 1x2 is applied. That is, every MAX operation would in this case be taking a max over a 1X2 region.\n",
    "\n",
    "#### Response: \n",
    "\n",
    "Number of parameters:\n",
    "\n",
    "Shape of layer output:"
   ]
  },
  {
   "cell_type": "markdown",
   "metadata": {},
   "source": [
    "### 3. Interpretation [5 points]"
   ]
  },
  {
   "cell_type": "markdown",
   "metadata": {},
   "source": [
    "#### 3a) Consider the rightmost pixel of the final output: what is the leftmost pixel in the input image that it depends on?  \n",
    "* Assume that the leftmost pixel has index value of 0.\n",
    "\n",
    "#### 3b) How does this depend on the size of the conv layer filter and the size of the original image?  \n",
    "* Assume that the max pool layer remains unchanged."
   ]
  },
  {
   "cell_type": "code",
   "execution_count": null,
   "metadata": {
    "collapsed": true
   },
   "outputs": [],
   "source": []
  }
 ],
 "metadata": {
  "kernelspec": {
   "display_name": "Python 3",
   "language": "python",
   "name": "python3"
  },
  "language_info": {
   "codemirror_mode": {
    "name": "ipython",
    "version": 3
   },
   "file_extension": ".py",
   "mimetype": "text/x-python",
   "name": "python",
   "nbconvert_exporter": "python",
   "pygments_lexer": "ipython3",
   "version": "3.6.3"
  }
 },
 "nbformat": 4,
 "nbformat_minor": 2
}
